{
 "cells": [
  {
   "cell_type": "code",
   "execution_count": 2,
   "metadata": {},
   "outputs": [],
   "source": [
    "\n",
    "import pyspark\n",
    "from pyspark.sql import *\n",
    "import numpy as np\n",
    "import pandas as pd\n",
    "from pyspark.sql.functions import *\n",
    "from pyspark.sql.types import *\n",
    "import re"
   ]
  },
  {
   "cell_type": "code",
   "execution_count": 3,
   "metadata": {},
   "outputs": [
    {
     "name": "stderr",
     "output_type": "stream",
     "text": [
      "25/03/27 17:31:58 WARN Utils: Your hostname, MacBook-Pro-cua-Vo-4.local resolves to a loopback address: 127.0.0.1; using 10.10.1.10 instead (on interface en0)\n",
      "25/03/27 17:31:59 WARN Utils: Set SPARK_LOCAL_IP if you need to bind to another address\n",
      "Setting default log level to \"WARN\".\n",
      "To adjust logging level use sc.setLogLevel(newLevel). For SparkR, use setLogLevel(newLevel).\n",
      "25/03/27 17:31:59 WARN NativeCodeLoader: Unable to load native-hadoop library for your platform... using builtin-java classes where applicable\n",
      "25/03/27 17:32:01 WARN Utils: Service 'SparkUI' could not bind on port 4040. Attempting port 4041.\n"
     ]
    }
   ],
   "source": [
    "spark = SparkSession.builder.appName('Cleaning').getOrCreate()"
   ]
  },
  {
   "cell_type": "markdown",
   "metadata": {},
   "source": [
    "# Read File"
   ]
  },
  {
   "cell_type": "code",
   "execution_count": 4,
   "metadata": {},
   "outputs": [
    {
     "name": "stderr",
     "output_type": "stream",
     "text": [
      "                                                                                \r"
     ]
    }
   ],
   "source": [
    "# Training Set\n",
    "context = spark.read.csv('../initial_data/train/context.csv',header = True,inferSchema= True)\n",
    "mpa = spark.read.csv('../initial_data/train/mobile_plan_attr.csv',header = True,inferSchema= True,sep=\";\")\n",
    "mpu = spark.read.csv('../initial_data/train/mobile_plan_user.csv',header = True,inferSchema= True)\n",
    "user = spark.read.csv('../initial_data/train/user.csv',header = True,inferSchema= True)\n",
    "\n",
    "train_set = {'user': user,'context': context, 'mpa': mpa, 'mpu': mpu }\n",
    "\n",
    "\n"
   ]
  },
  {
   "cell_type": "code",
   "execution_count": null,
   "metadata": {},
   "outputs": [],
   "source": []
  },
  {
   "cell_type": "code",
   "execution_count": 5,
   "metadata": {},
   "outputs": [],
   "source": [
    "# Testing Set\n",
    "context_test = spark.read.csv('../initial_data/test/context.csv',header = True,inferSchema= True)\n",
    "mpa_test = spark.read.csv('../initial_data/test/mobile_plan_attr.csv',header = True,inferSchema= True,sep=\";\")\n",
    "mpu_test = spark.read.csv('../initial_data/test/mobile_plan_user.csv',header = True,inferSchema= True)\n",
    "user_test = spark.read.csv('../initial_data/test/user.csv',header = True,inferSchema= True)\n",
    "\n",
    "test_set = {'user': user_test,'context': context_test, 'mpa': mpa_test, 'mpu': mpu_test }"
   ]
  },
  {
   "cell_type": "markdown",
   "metadata": {},
   "source": [
    "# Preprocessing"
   ]
  },
  {
   "cell_type": "markdown",
   "metadata": {},
   "source": [
    "## Missing Value"
   ]
  },
  {
   "cell_type": "code",
   "execution_count": 6,
   "metadata": {},
   "outputs": [
    {
     "name": "stderr",
     "output_type": "stream",
     "text": [
      "                                                                                \r"
     ]
    },
    {
     "name": "stdout",
     "output_type": "stream",
     "text": [
      "------------------ user ----------------------\n",
      "      column  count  percentage\n",
      "0  education   4003   34.592119\n",
      "------------------ mpu ----------------------\n",
      "        column  count  percentage\n",
      "0  mobile_plan   2715    5.990600\n",
      "1       accept   2721    6.003839\n"
     ]
    }
   ],
   "source": [
    "for key,df in train_set.items():\n",
    "    length = df.count()\n",
    "    save = []\n",
    "    for c in df.columns:\n",
    "        null_count = df.filter(col(c).isNull()).count()  + df.filter(col(c) == 'None').count()\n",
    "        if null_count != 0:\n",
    "            save.append({'column' : c ,'count':null_count,'percentage': null_count/length * 100})\n",
    "    if save:\n",
    "        missing_df = pd.DataFrame(save)\n",
    "        print(f'------------------ {key} ----------------------')\n",
    "        print(missing_df)"
   ]
  },
  {
   "cell_type": "code",
   "execution_count": 7,
   "metadata": {},
   "outputs": [
    {
     "name": "stdout",
     "output_type": "stream",
     "text": [
      "------------------ user ----------------------\n",
      "      column  count  percentage\n",
      "0  education    348   31.294964\n",
      "------------------ mpu ----------------------\n",
      "      column  count  percentage\n",
      "0  coupon_id     87    6.227631\n",
      "1     accept     92    6.585540\n"
     ]
    }
   ],
   "source": [
    "for key,df in test_set.items():\n",
    "    length = df.count()\n",
    "    save = []\n",
    "    for c in df.columns:\n",
    "        null_count = df.filter(col(c).isNull()).count()  + df.filter(col(c) == 'None').count()\n",
    "        if null_count != 0:\n",
    "            save.append({'column' : c ,'count':null_count,'percentage': null_count/length * 100})\n",
    "    if save:\n",
    "        missing_df = pd.DataFrame(save)\n",
    "        print(f'------------------ {key} ----------------------')\n",
    "        print(missing_df)"
   ]
  },
  {
   "cell_type": "code",
   "execution_count": null,
   "metadata": {},
   "outputs": [],
   "source": []
  },
  {
   "cell_type": "markdown",
   "metadata": {},
   "source": [
    "## User"
   ]
  },
  {
   "cell_type": "code",
   "execution_count": 8,
   "metadata": {},
   "outputs": [
    {
     "name": "stdout",
     "output_type": "stream",
     "text": [
      "+-----+--------------------+------+---+---------+--------------------+--------------+---------------+---------+--------------------+-------------------------+-------+-------+----------+-----------------+--------------+\n",
      "|   id|                name|gender|age|education|          profession|        income|    living_with|   nation|               phone|                      job|fb_freq|yt_freq|insta_freq|use_less_than_2GB|use_2GB_to_4GB|\n",
      "+-----+--------------------+------+---+---------+--------------------+--------------+---------------+---------+--------------------+-------------------------+-------+-------+----------+-----------------+--------------+\n",
      "|11156|        Rachel Gibbs|Female| 21|     None|          Unemployed|        39100$|   Unmarrie d_2|AUSTRALIA|      (08)-8012-7556|               Astronomer|      0|      0|         9|                8|             3|\n",
      "| 4297|      Karen Anderson| Other| 22|     None|          Unemployed|        41000$|  U nmarr ied_2|  ENGLAND|        943-646-5203|           Air cabin crew|      0|      0|        23|                7|             2|\n",
      "|13301|              김지원|Female| 24|     None|          Unemployed|        44300$|   Unma rried_1|    KOREA|       010-4500-9888|기계공학 기술자 및 연구원|      0|      0|        23|                5|             2|\n",
      "| 9920|    Elisabeth Wähner|Female| 24|     None|          Unemployed|        44400$|  Un ma rried_1|  DENMARK|    +49(0) 587406963|      Medizininformatiker|      0|      0|        21|                7|             2|\n",
      "| 8424|Sra. Maria Luiza ...|Female| 25|     None|          Unemployed|1100000000 VND|  U nmarr ied_1|   BRAZIL|     (084) 0568 1445|                  Ufólogo|      0|      0|        22|                5|             3|\n",
      "| 6771|           渡辺 千代|Female| 21|     None|          Unemployed|        46400$| Unm  ar ried_1|    JAPAN|       090-3085-6096|                 演歌歌手|      0|      0|        14|                5|             3|\n",
      "|15308|          Lisa Olson|Female| 24|     None|          Unemployed|1100000000 VND| Unmar r  ied_2|  ENGLAND|    001-406-807-3242|     Trading standards...|      0|      0|        19|                8|             2|\n",
      "|14139|          Susan Ryan|Female| 22|     None|          Unemployed| 980000000 VND|    Unmarried_2|       US|+1-891-222-2144x7858|      Pensions consultant|      0|      0|        10|                6|             3|\n",
      "|17824|           鈴木 翔太| Other| 24|     None|          Unemployed|1150000000 VND|  Unma r ried_2|    JAPAN|       090-2803-7648|                 アイドル|      0|      0|        17|                6|             2|\n",
      "|16372|       Beverly Lopez| Other| 24|     None|          Unemployed|1180000000 VND|   Unma rried_1|  ENGLAND|   647.614.5318x5041|     Land/geomatics su...|      0|      0|        11|                8|             2|\n",
      "| 1573|              张凤兰|Female| 23|     None|          Unemployed|1110000000 VND| Unma   rried_2|    CHINA|         15909858373|                 网站策划|      0|      0|        16|                8|             1|\n",
      "|11835|Dipl.-Ing. Bozena...|Female| 23|     None|          Unemployed|        43400$|    Unmarried_2|  DENMARK|        06548 209250|      Medizininformatiker|      0|      0|        22|                6|             3|\n",
      "|19253|    Christine Coffey|Female| 22|     None|          Unemployed|        47500$| U  nmarr ied_1|       US|        953-968-9491|                Homeopath|      0|      0|        23|                8|             1|\n",
      "|10399|         Jessica Ali|Female| 21|     None|          Unemployed|1130000000 VND|  Unm arr ied_1|  ENGLAND|        842-865-1842|                  Barista|      0|      0|        23|                5|             3|\n",
      "| 3502|        Susan Peters|Female| 25|     None|          Unemployed|        40400$|   Unma rried_1|       US|001-815-515-6483x...|     Volunteer coordin...|      0|      0|        16|                4|             3|\n",
      "| 3051|           小川 智也|  Male| 25| Bachelor|Architecture & En...|1680000000 VND|     S i ngle_0|    JAPAN|       090-7082-4681|                 司法書士|      0|      0|         8|                5|             0|\n",
      "|17620|    Nick Mühle-Klemm|  Male| 24| Bachelor|Architecture & En...|        74000$|     Si  ngle_0|  DENMARK|    +49(0)0577342291|               Mechaniker|      0|      1|         7|                5|             0|\n",
      "| 9606|        Luis Bennett|  Male| 23| Bachelor|Architecture & En...|1772500000 VND|       Single_0|       US|     +1-922-537-0325|        Social researcher|      0|      1|         7|                8|             0|\n",
      "|15884|             藤田 学|  Male| 24| Bachelor|Architecture & En...|        69800$|      Sing le_0|    JAPAN|       080-7594-3786|                   配管工|      0|      0|         6|                8|             1|\n",
      "| 7022|       André Correia|  Male| 22| Bachelor|Architecture & En...|1595000000 VND|   S    ingle_0|   BRAZIL|       0500-308-8726|     Instrumentador ci...|      0|      1|         5|                8|             0|\n",
      "+-----+--------------------+------+---+---------+--------------------+--------------+---------------+---------+--------------------+-------------------------+-------+-------+----------+-----------------+--------------+\n",
      "only showing top 20 rows\n",
      "\n"
     ]
    }
   ],
   "source": [
    "user.show()"
   ]
  },
  {
   "cell_type": "markdown",
   "metadata": {},
   "source": [
    "## Name"
   ]
  },
  {
   "cell_type": "code",
   "execution_count": 9,
   "metadata": {},
   "outputs": [],
   "source": [
    "user = user.drop('name')\n",
    "user_test = user_test.drop('name')"
   ]
  },
  {
   "cell_type": "markdown",
   "metadata": {},
   "source": [
    "## Gender"
   ]
  },
  {
   "cell_type": "code",
   "execution_count": 10,
   "metadata": {},
   "outputs": [],
   "source": [
    "user = user.withColumn('gender',lower(col('gender')))\n",
    "user_test = user_test.withColumn('gender',lower(col('gender')))"
   ]
  },
  {
   "cell_type": "markdown",
   "metadata": {},
   "source": [
    "## Education"
   ]
  },
  {
   "cell_type": "code",
   "execution_count": 11,
   "metadata": {},
   "outputs": [],
   "source": [
    "user = user.withColumn(\n",
    "    'education', \n",
    "    when(col('education').isin(['highschool', 'associate']), 'undergrad')\n",
    "    .when(col('education') == 'masters', 'postgrad')\n",
    "    .when(col('education') == 'unknown', 'unknown')\n",
    "    .otherwise('grad')\n",
    ")\n",
    "user_test = user_test.withColumn(\n",
    "    'education', \n",
    "    when(col('education').isin(['highschool', 'associate']), 'undergrad')\n",
    "    .when(col('education') == 'masters', 'postgrad')\n",
    "    .when(col('education') == 'unknown', 'unknown')\n",
    "    .otherwise('grad')\n",
    ")"
   ]
  },
  {
   "cell_type": "markdown",
   "metadata": {},
   "source": [
    "## Income"
   ]
  },
  {
   "cell_type": "code",
   "execution_count": 12,
   "metadata": {},
   "outputs": [],
   "source": [
    "def income_convert(x):\n",
    "    if 'VND' in x:\n",
    "        x = int(x.replace('VND','')) \n",
    "        x /= 25000\n",
    "        \n",
    "    elif '$' in x:\n",
    "        x =  x.replace('$','')\n",
    "    if int(x) <= 30000:\n",
    "        return 'lower'\n",
    "    elif int(x) <= 58000:\n",
    "        return 'lower-middle'\n",
    "    elif int(x) <= 94000:\n",
    "        return 'middle'\n",
    "    elif int(x) <=153000:\n",
    "        return 'upper-middle'\n",
    "    elif int(x) <=200000:\n",
    "        return 'upper'\n",
    "    else:\n",
    "        return 'extreme upper'\n",
    "udf_income =  udf(income_convert,StringType())"
   ]
  },
  {
   "cell_type": "code",
   "execution_count": 13,
   "metadata": {},
   "outputs": [],
   "source": [
    "user = user.withColumn('income', udf_income(col('income')))\n",
    "user_test = user_test.withColumn('income', udf_income(col('income')))"
   ]
  },
  {
   "cell_type": "markdown",
   "metadata": {},
   "source": [
    "## Profession"
   ]
  },
  {
   "cell_type": "code",
   "execution_count": 14,
   "metadata": {},
   "outputs": [],
   "source": [
    "def convert_profession(x):\n",
    "    if x not in ['unemployed','retired','student']:\n",
    "        return 'employed'\n",
    "    else :\n",
    "        return x\n",
    "udf_profession =  udf(convert_profession,StringType())"
   ]
  },
  {
   "cell_type": "code",
   "execution_count": 15,
   "metadata": {},
   "outputs": [],
   "source": [
    "user = user.withColumn('profession', udf_profession(col('profession')))\n",
    "user_test = user_test.withColumn('profession',udf_profession(col('profession')))"
   ]
  },
  {
   "cell_type": "markdown",
   "metadata": {},
   "source": [
    "## Living_with"
   ]
  },
  {
   "cell_type": "code",
   "execution_count": 16,
   "metadata": {},
   "outputs": [],
   "source": [
    "\n",
    "def extract_child(x):\n",
    "\n",
    "    x = re.sub(r'[a-zA-Z_]+', '', x)  \n",
    "    return int(x) if x.isdigit() else 0  \n",
    "\n",
    "\n",
    "def extract_status(x):\n",
    "    x = re.sub(r'[0-9_ ]+', '', x).lower() \n",
    "    return \"singled\" if x != \"married\" else \"married\" \n",
    "\n",
    "\n",
    "udf_ext_child = udf(extract_child, IntegerType())  \n",
    "udf_ext_status = udf(extract_status, StringType())\n",
    "\n",
    "\n",
    "\n"
   ]
  },
  {
   "cell_type": "code",
   "execution_count": 17,
   "metadata": {},
   "outputs": [],
   "source": [
    "\n",
    "user = user.withColumn('num_child', udf_ext_child(col('living_with')))\n",
    "user = user.withColumn('living_with', udf_ext_status(col('living_with')))\n",
    "user = user.withColumnRenamed('living_with','martial_status')\n",
    "\n",
    "user_test = user_test.withColumn('num_child', udf_ext_child(col('living_with')))\n",
    "user_test = user_test.withColumn('living_with', udf_ext_status(col('living_with')))\n",
    "user_test = user_test.withColumnRenamed('living_with','martial_status')\n"
   ]
  },
  {
   "cell_type": "markdown",
   "metadata": {},
   "source": [
    "## Nation"
   ]
  },
  {
   "cell_type": "code",
   "execution_count": 18,
   "metadata": {},
   "outputs": [],
   "source": [
    "def convert_continent(x):\n",
    "    continent_map = {\n",
    "    'US': 'america',\n",
    "    'ENGLAND': 'europe',\n",
    "    'CHINA': 'asia',\n",
    "    'JAPAN': 'asia',\n",
    "    'RUSSIA': 'europe',\n",
    "    'BRAZIL': 'america',\n",
    "    'AUSTRALIA': 'oceania',\n",
    "    'KOREA': 'asia',\n",
    "    'DENMARK': 'europe'\n",
    "}   \n",
    "    return continent_map.get(x,'unknown')\n",
    "\n",
    "\n",
    "udf_continent = udf(convert_continent,StringType())"
   ]
  },
  {
   "cell_type": "code",
   "execution_count": 19,
   "metadata": {},
   "outputs": [],
   "source": [
    "user = user.withColumn('nation', udf_continent(col('nation')))\n",
    "user = user.withColumnRenamed('nation','continent')\n",
    "\n",
    "user_test = user_test.withColumn('nation', udf_continent(col('nation')))\n",
    "user_test = user_test.withColumnRenamed('nation','continent')"
   ]
  },
  {
   "cell_type": "markdown",
   "metadata": {},
   "source": [
    "## Phone, Job"
   ]
  },
  {
   "cell_type": "code",
   "execution_count": 21,
   "metadata": {},
   "outputs": [],
   "source": [
    "user = user.drop('phone','job')\n",
    "user_test = user_test.drop('phone','job')"
   ]
  },
  {
   "cell_type": "code",
   "execution_count": 43,
   "metadata": {},
   "outputs": [
    {
     "name": "stdout",
     "output_type": "stream",
     "text": [
      "+-----+------+---+---------+----------+------------+--------------+---------+-------+-------+----------+-----------------+--------------+---------+\n",
      "|   id|gender|age|education|profession|      income|martial_status|continent|fb_freq|yt_freq|insta_freq|use_less_than_2GB|use_2GB_to_4GB|num_child|\n",
      "+-----+------+---+---------+----------+------------+--------------+---------+-------+-------+----------+-----------------+--------------+---------+\n",
      "|11156|female| 21|     grad|  employed|lower-middle|       singled|  oceania|      0|      0|         9|                8|             3|        0|\n",
      "| 4297| other| 22|     grad|  employed|lower-middle|       singled|   europe|      0|      0|        23|                7|             2|        0|\n",
      "|13301|female| 24|     grad|  employed|lower-middle|       singled|     asia|      0|      0|        23|                5|             2|        0|\n",
      "| 9920|female| 24|     grad|  employed|lower-middle|       singled|   europe|      0|      0|        21|                7|             2|        0|\n",
      "| 8424|female| 25|     grad|  employed|lower-middle|       singled|  america|      0|      0|        22|                5|             3|        0|\n",
      "| 6771|female| 21|     grad|  employed|lower-middle|       singled|     asia|      0|      0|        14|                5|             3|        0|\n",
      "|15308|female| 24|     grad|  employed|lower-middle|       singled|   europe|      0|      0|        19|                8|             2|        0|\n",
      "|14139|female| 22|     grad|  employed|lower-middle|       singled|  america|      0|      0|        10|                6|             3|        0|\n",
      "|17824| other| 24|     grad|  employed|lower-middle|       singled|     asia|      0|      0|        17|                6|             2|        0|\n",
      "|16372| other| 24|     grad|  employed|lower-middle|       singled|   europe|      0|      0|        11|                8|             2|        0|\n",
      "| 1573|female| 23|     grad|  employed|lower-middle|       singled|     asia|      0|      0|        16|                8|             1|        0|\n",
      "|11835|female| 23|     grad|  employed|lower-middle|       singled|   europe|      0|      0|        22|                6|             3|        2|\n",
      "|19253|female| 22|     grad|  employed|lower-middle|       singled|  america|      0|      0|        23|                8|             1|        0|\n",
      "|10399|female| 21|     grad|  employed|lower-middle|       singled|   europe|      0|      0|        23|                5|             3|        0|\n",
      "| 3502|female| 25|     grad|  employed|lower-middle|       singled|  america|      0|      0|        16|                4|             3|        0|\n",
      "| 3051|  male| 25|     grad|  employed|      middle|       singled|     asia|      0|      0|         8|                5|             0|        0|\n",
      "|17620|  male| 24|     grad|  employed|      middle|       singled|   europe|      0|      1|         7|                5|             0|        0|\n",
      "| 9606|  male| 23|     grad|  employed|      middle|       singled|  america|      0|      1|         7|                8|             0|        0|\n",
      "|15884|  male| 24|     grad|  employed|      middle|       singled|     asia|      0|      0|         6|                8|             1|        0|\n",
      "| 7022|  male| 22|     grad|  employed|      middle|       singled|  america|      0|      1|         5|                8|             0|        0|\n",
      "+-----+------+---+---------+----------+------------+--------------+---------+-------+-------+----------+-----------------+--------------+---------+\n",
      "only showing top 20 rows\n",
      "\n"
     ]
    }
   ],
   "source": [
    "user.show()"
   ]
  },
  {
   "cell_type": "code",
   "execution_count": 44,
   "metadata": {},
   "outputs": [
    {
     "name": "stdout",
     "output_type": "stream",
     "text": [
      "+-----+------+---+---------+----------+------------+--------------+---------+-------+-------+----------+-----------------+--------------+---------+\n",
      "|   id|gender|age|education|profession|      income|martial_status|continent|fb_freq|yt_freq|insta_freq|use_less_than_2GB|use_2GB_to_4GB|num_child|\n",
      "+-----+------+---+---------+----------+------------+--------------+---------+-------+-------+----------+-----------------+--------------+---------+\n",
      "| 7067|female| 33|     grad|  employed|      middle|       married|     asia|      0|      1|         3|                0|             1|        0|\n",
      "| 2114|female| 34|     grad|  employed|      middle|       married|     asia|      0|      1|         1|                1|             1|        0|\n",
      "| 6582|female| 34|     grad|  employed|      middle|       married|  oceania|      0|      1|         3|                1|             0|        0|\n",
      "|11379|female| 34|     grad|  employed|      middle|       married|  america|      0|      1|         3|                0|             0|        0|\n",
      "| 3986|female| 34|     grad|  employed|      middle|       married|     asia|      0|      1|         1|                0|             1|        0|\n",
      "|18895|female| 33|     grad|  employed|      middle|       married|  oceania|      0|      1|         3|                0|             1|        2|\n",
      "|15411|female| 35|     grad|  employed|      middle|       married|  oceania|      0|      0|         3|                1|             0|        0|\n",
      "| 9479|female| 44|     grad|  employed|       lower|       singled|  america|      0|     21|         1|                2|             0|        0|\n",
      "| 6066|female| 43|     grad|  employed|       lower|       singled|   europe|      0|     17|         1|                3|             0|        0|\n",
      "| 4993|female| 33|     grad|  employed|lower-middle|       married|  oceania|      0|      0|         4|                7|             0|        0|\n",
      "|16677|female| 33|     grad|  employed|lower-middle|       married|   europe|      0|      1|         5|                7|             1|        0|\n",
      "|12449|female| 34|     grad|  employed|lower-middle|       married|   europe|      0|      1|         6|                7|             1|        0|\n",
      "| 7488|female| 48|     grad|  employed|lower-middle|       singled|     asia|      0|      0|         1|                1|             0|        0|\n",
      "|16063|female| 49|     grad|  employed|lower-middle|       singled|   europe|      0|      0|         0|                0|             0|        0|\n",
      "| 3687|female| 48|     grad|  employed|lower-middle|       singled|  america|      0|      1|         1|                1|             0|        0|\n",
      "|19554|female| 44|     grad|  employed|       lower|       singled|  america|      1|      1|         2|                1|             0|        0|\n",
      "|13548|female| 43|     grad|  employed|lower-middle|       singled|  oceania|      0|      1|         2|                3|             0|        1|\n",
      "| 9635|female| 45|     grad|  employed|       lower|       singled|   europe|      0|      2|         3|                3|             0|        1|\n",
      "| 9065|female| 45|     grad|  employed|lower-middle|       singled|   europe|      0|      1|         1|                2|             0|        3|\n",
      "| 9063|female| 72|     grad|  employed|lower-middle|       married|  america|      2|      2|         5|                7|             2|        0|\n",
      "+-----+------+---+---------+----------+------------+--------------+---------+-------+-------+----------+-----------------+--------------+---------+\n",
      "only showing top 20 rows\n",
      "\n"
     ]
    }
   ],
   "source": [
    "user_test.show()"
   ]
  },
  {
   "cell_type": "markdown",
   "metadata": {},
   "source": [
    "# Context"
   ]
  },
  {
   "cell_type": "code",
   "execution_count": 23,
   "metadata": {},
   "outputs": [
    {
     "name": "stdout",
     "output_type": "stream",
     "text": [
      "+-----+-------+------------+---------+-------+------------+------------+------------+--------+--------+-----+---------+\n",
      "|   id|purpose|     go_with|  weather|   time|viettel_no_0|viettel_no_1|viettel_no_2|to_hanoi|to_other|score|direction|\n",
      "+-----+-------+------------+---------+-------+------------+------------+------------+--------+--------+-----+---------+\n",
      "|11156| Travel|    Al?!%one|&&!!Sunny|  13:00|           1|           0|           0|       0|       1|    0|        0|\n",
      "| 4297| Travel|F!ri?end%(s)|  Sun!~ny|9  AM  |           1|           1|           0|       0|       1|    0|        0|\n",
      "|13301| Travel|  Frie~nd(s)|!&~S!unny|  15:00|           1|           1|           0|       0|       1|    0|        0|\n",
      "| 9920| Travel|  ?Friend(s)|  Su%n&ny| 2 PM  |           1|           1|           0|       0|       1|   30|        0|\n",
      "| 8424| Travel|   ?Fa! mily|   Sun%ny|   10AM|           1|           1|           0|       0|       1|    0|        0|\n",
      "| 6771| Travel|    Fami~!ly|  !%Sunny|  8  AM|           1|           1|           0|       0|       1|    0|        0|\n",
      "|15308| Travel|     Fami?ly|  %S&unny|  14:00|           1|           0|           0|       0|       1|   29|        0|\n",
      "|14139| Travel|      Family| ?S~u!nny| 1 PM  |           1|           1|           0|       0|       1|    0|        0|\n",
      "|17824| Travel|     Fami ly|    Sunny|  16:00|           1|           1|           0|       0|       1|   25|        0|\n",
      "|16372|  Visit|   ~~A!~lone|   Sunn?y|3  PM  |           1|           0|           0|       1|       0|    0|        1|\n",
      "+-----+-------+------------+---------+-------+------------+------------+------------+--------+--------+-----+---------+\n",
      "only showing top 10 rows\n",
      "\n"
     ]
    }
   ],
   "source": [
    "context.show(10)"
   ]
  },
  {
   "cell_type": "markdown",
   "metadata": {},
   "source": [
    "## Go_with and weather"
   ]
  },
  {
   "cell_type": "code",
   "execution_count": 24,
   "metadata": {},
   "outputs": [],
   "source": [
    "def standard_str(x):\n",
    "    return str(re.sub(r\"[^a-zA-Z\\s]\", \"\", str(x)).replace(' ','').lower())\n",
    "udf_standard_str = udf(standard_str,StringType())"
   ]
  },
  {
   "cell_type": "code",
   "execution_count": 25,
   "metadata": {},
   "outputs": [],
   "source": [
    "context =  context.withColumn('go_with', udf_standard_str(col('go_with')))\n",
    "context =  context.withColumn('weather', udf_standard_str(col('weather')))\n",
    "\n",
    "context_test =  context_test.withColumn('go_with', udf_standard_str(col('go_with')))\n",
    "context_test =  context_test.withColumn('weather', udf_standard_str(col('weather')))"
   ]
  },
  {
   "cell_type": "markdown",
   "metadata": {},
   "source": [
    "## Purpose"
   ]
  },
  {
   "cell_type": "code",
   "execution_count": 26,
   "metadata": {},
   "outputs": [],
   "source": [
    "context = context.withColumn('purpose', when(col('purpose') == 'Work','work').otherwise('travel'))\n",
    "context_test = context_test.withColumn('purpose', when(col('purpose') == 'Work','work').otherwise('travel'))"
   ]
  },
  {
   "cell_type": "code",
   "execution_count": 27,
   "metadata": {},
   "outputs": [
    {
     "name": "stdout",
     "output_type": "stream",
     "text": [
      "+-----+-------+-------+-------+-------+------------+------------+------------+--------+--------+-----+---------+\n",
      "|   id|purpose|go_with|weather|   time|viettel_no_0|viettel_no_1|viettel_no_2|to_hanoi|to_other|score|direction|\n",
      "+-----+-------+-------+-------+-------+------------+------------+------------+--------+--------+-----+---------+\n",
      "|11156| travel|  alone|  sunny|  13:00|           1|           0|           0|       0|       1|    0|        0|\n",
      "| 4297| travel|friends|  sunny|9  AM  |           1|           1|           0|       0|       1|    0|        0|\n",
      "|13301| travel|friends|  sunny|  15:00|           1|           1|           0|       0|       1|    0|        0|\n",
      "| 9920| travel|friends|  sunny| 2 PM  |           1|           1|           0|       0|       1|   30|        0|\n",
      "| 8424| travel| family|  sunny|   10AM|           1|           1|           0|       0|       1|    0|        0|\n",
      "| 6771| travel| family|  sunny|  8  AM|           1|           1|           0|       0|       1|    0|        0|\n",
      "|15308| travel| family|  sunny|  14:00|           1|           0|           0|       0|       1|   29|        0|\n",
      "|14139| travel| family|  sunny| 1 PM  |           1|           1|           0|       0|       1|    0|        0|\n",
      "|17824| travel| family|  sunny|  16:00|           1|           1|           0|       0|       1|   25|        0|\n",
      "|16372| travel|  alone|  sunny|3  PM  |           1|           0|           0|       1|       0|    0|        1|\n",
      "| 1573| travel|  alone|  sunny|4  PM  |           1|           1|           0|       0|       1|    0|        0|\n",
      "|11835|   work|  alone|  sunny|   7:00|           1|           1|           1|       0|       1|    0|        0|\n",
      "|19253|   work|  alone|  sunny|   6:00|           1|           1|           0|       0|       1|   32|        0|\n",
      "|10399|   work|  alone|  sunny|7  AM  |           1|           0|           0|       1|       0|    0|        1|\n",
      "| 3502|   work|  alone|  sunny|7  AM  |           1|           1|           0|       0|       1|    0|        0|\n",
      "| 3051| travel|  alone|  sunny|  14:00|           1|           0|           0|       0|       1|   13|        0|\n",
      "|17620| travel|friends|  sunny|9  AM  |           1|           0|           0|       0|       1|    0|        0|\n",
      "| 9606| travel|friends|  sunny|  14:00|           1|           1|           0|       0|       1|    0|        0|\n",
      "|15884| travel|friends|  sunny|  15:00|           1|           1|           0|       0|       1|   15|        0|\n",
      "| 7022| travel|friends|  sunny|  11:00|           1|           1|           0|       0|       1|    0|        0|\n",
      "+-----+-------+-------+-------+-------+------------+------------+------------+--------+--------+-----+---------+\n",
      "only showing top 20 rows\n",
      "\n"
     ]
    }
   ],
   "source": [
    "context.show()"
   ]
  },
  {
   "cell_type": "markdown",
   "metadata": {},
   "source": [
    "## Time"
   ]
  },
  {
   "cell_type": "code",
   "execution_count": 28,
   "metadata": {},
   "outputs": [],
   "source": [
    "def convert_time(x):\n",
    "    if 'AM' in x:\n",
    "        x = x.replace('AM','')\n",
    "    elif 'PM' in x:\n",
    "        x = x.replace('PM','')\n",
    "        x = int(x.split(':')[0]) + 12\n",
    "    elif ':00' in x:\n",
    "        x = x.replace(':00','')\n",
    "    return x\n",
    "\n",
    "def time_of_day(x):\n",
    "    hour = int(convert_time(x))\n",
    "    if 5 <= hour < 12:\n",
    "        return 'morning'\n",
    "    elif 12 <= hour < 17:\n",
    "        return 'afternoon'\n",
    "    elif 17 <= hour < 21:\n",
    "        return 'evening'\n",
    "    else:\n",
    "        return 'night'\n",
    "    \n",
    "udf_time = udf(time_of_day,StringType())"
   ]
  },
  {
   "cell_type": "code",
   "execution_count": 29,
   "metadata": {},
   "outputs": [],
   "source": [
    "context =  context.withColumn('time', udf_time(col('time')))\n",
    "context_test =  context_test.withColumn('time', udf_time(col('time')))"
   ]
  },
  {
   "cell_type": "code",
   "execution_count": 30,
   "metadata": {},
   "outputs": [
    {
     "name": "stdout",
     "output_type": "stream",
     "text": [
      "+-----+-------+-------+-------+---------+------------+------------+------------+--------+--------+-----+---------+\n",
      "|   id|purpose|go_with|weather|     time|viettel_no_0|viettel_no_1|viettel_no_2|to_hanoi|to_other|score|direction|\n",
      "+-----+-------+-------+-------+---------+------------+------------+------------+--------+--------+-----+---------+\n",
      "|11156| travel|  alone|  sunny|afternoon|           1|           0|           0|       0|       1|    0|        0|\n",
      "| 4297| travel|friends|  sunny|  morning|           1|           1|           0|       0|       1|    0|        0|\n",
      "|13301| travel|friends|  sunny|afternoon|           1|           1|           0|       0|       1|    0|        0|\n",
      "| 9920| travel|friends|  sunny|afternoon|           1|           1|           0|       0|       1|   30|        0|\n",
      "| 8424| travel| family|  sunny|  morning|           1|           1|           0|       0|       1|    0|        0|\n",
      "| 6771| travel| family|  sunny|  morning|           1|           1|           0|       0|       1|    0|        0|\n",
      "|15308| travel| family|  sunny|afternoon|           1|           0|           0|       0|       1|   29|        0|\n",
      "|14139| travel| family|  sunny|afternoon|           1|           1|           0|       0|       1|    0|        0|\n",
      "|17824| travel| family|  sunny|afternoon|           1|           1|           0|       0|       1|   25|        0|\n",
      "|16372| travel|  alone|  sunny|afternoon|           1|           0|           0|       1|       0|    0|        1|\n",
      "| 1573| travel|  alone|  sunny|afternoon|           1|           1|           0|       0|       1|    0|        0|\n",
      "|11835|   work|  alone|  sunny|  morning|           1|           1|           1|       0|       1|    0|        0|\n",
      "|19253|   work|  alone|  sunny|  morning|           1|           1|           0|       0|       1|   32|        0|\n",
      "|10399|   work|  alone|  sunny|  morning|           1|           0|           0|       1|       0|    0|        1|\n",
      "| 3502|   work|  alone|  sunny|  morning|           1|           1|           0|       0|       1|    0|        0|\n",
      "| 3051| travel|  alone|  sunny|afternoon|           1|           0|           0|       0|       1|   13|        0|\n",
      "|17620| travel|friends|  sunny|  morning|           1|           0|           0|       0|       1|    0|        0|\n",
      "| 9606| travel|friends|  sunny|afternoon|           1|           1|           0|       0|       1|    0|        0|\n",
      "|15884| travel|friends|  sunny|afternoon|           1|           1|           0|       0|       1|   15|        0|\n",
      "| 7022| travel|friends|  sunny|  morning|           1|           1|           0|       0|       1|    0|        0|\n",
      "+-----+-------+-------+-------+---------+------------+------------+------------+--------+--------+-----+---------+\n",
      "only showing top 20 rows\n",
      "\n"
     ]
    }
   ],
   "source": [
    "context.show()"
   ]
  },
  {
   "cell_type": "code",
   "execution_count": 31,
   "metadata": {},
   "outputs": [],
   "source": [
    "context = context.drop('to_hanoi','to_other')\n",
    "context_test = context_test.drop('to_hanoi','to_other')"
   ]
  },
  {
   "cell_type": "code",
   "execution_count": 32,
   "metadata": {},
   "outputs": [
    {
     "name": "stdout",
     "output_type": "stream",
     "text": [
      "+-----+-------+-------+-------+---------+------------+------------+------------+-----+---------+\n",
      "|   id|purpose|go_with|weather|     time|viettel_no_0|viettel_no_1|viettel_no_2|score|direction|\n",
      "+-----+-------+-------+-------+---------+------------+------------+------------+-----+---------+\n",
      "|11156| travel|  alone|  sunny|afternoon|           1|           0|           0|    0|        0|\n",
      "| 4297| travel|friends|  sunny|  morning|           1|           1|           0|    0|        0|\n",
      "|13301| travel|friends|  sunny|afternoon|           1|           1|           0|    0|        0|\n",
      "| 9920| travel|friends|  sunny|afternoon|           1|           1|           0|   30|        0|\n",
      "| 8424| travel| family|  sunny|  morning|           1|           1|           0|    0|        0|\n",
      "| 6771| travel| family|  sunny|  morning|           1|           1|           0|    0|        0|\n",
      "|15308| travel| family|  sunny|afternoon|           1|           0|           0|   29|        0|\n",
      "|14139| travel| family|  sunny|afternoon|           1|           1|           0|    0|        0|\n",
      "|17824| travel| family|  sunny|afternoon|           1|           1|           0|   25|        0|\n",
      "|16372| travel|  alone|  sunny|afternoon|           1|           0|           0|    0|        1|\n",
      "| 1573| travel|  alone|  sunny|afternoon|           1|           1|           0|    0|        0|\n",
      "|11835|   work|  alone|  sunny|  morning|           1|           1|           1|    0|        0|\n",
      "|19253|   work|  alone|  sunny|  morning|           1|           1|           0|   32|        0|\n",
      "|10399|   work|  alone|  sunny|  morning|           1|           0|           0|    0|        1|\n",
      "| 3502|   work|  alone|  sunny|  morning|           1|           1|           0|    0|        0|\n",
      "| 3051| travel|  alone|  sunny|afternoon|           1|           0|           0|   13|        0|\n",
      "|17620| travel|friends|  sunny|  morning|           1|           0|           0|    0|        0|\n",
      "| 9606| travel|friends|  sunny|afternoon|           1|           1|           0|    0|        0|\n",
      "|15884| travel|friends|  sunny|afternoon|           1|           1|           0|   15|        0|\n",
      "| 7022| travel|friends|  sunny|  morning|           1|           1|           0|    0|        0|\n",
      "+-----+-------+-------+-------+---------+------------+------------+------------+-----+---------+\n",
      "only showing top 20 rows\n",
      "\n"
     ]
    }
   ],
   "source": [
    "context.show()"
   ]
  },
  {
   "cell_type": "markdown",
   "metadata": {},
   "source": [
    "## Mobile Plan Attributes"
   ]
  },
  {
   "cell_type": "code",
   "execution_count": 33,
   "metadata": {},
   "outputs": [
    {
     "name": "stdout",
     "output_type": "stream",
     "text": [
      "+---------------+--------------------+------+--------+\n",
      "|    mobile_plan|         description| price|duration|\n",
      "+---------------+--------------------+------+--------+\n",
      "|     DATASILVER|2GB/ day, high speed|100000|     5.0|\n",
      "|       DATAGOLD|5GB/ day, high speed|200000|     5.0|\n",
      "|    SOCIALMEDIA|1GB/ dayUnlimited...|150000|     3.0|\n",
      "|SOCIALMEDIAGOLD|3GB/ day, high sp...|250000|     3.0|\n",
      "|       DATACALL|2GB/ day, high sp...|200000|     5.0|\n",
      "+---------------+--------------------+------+--------+\n",
      "\n"
     ]
    }
   ],
   "source": [
    "mpa.show(10)"
   ]
  },
  {
   "cell_type": "markdown",
   "metadata": {},
   "source": [
    "### Mobile_plan"
   ]
  },
  {
   "cell_type": "code",
   "execution_count": 34,
   "metadata": {},
   "outputs": [],
   "source": [
    "mpa = mpa.withColumn('mobile_plan', lower(col('mobile_plan')))\n",
    "mpa_test = mpa_test.withColumn('mobile_plan', lower(col('mobile_plan')))"
   ]
  },
  {
   "cell_type": "markdown",
   "metadata": {},
   "source": [
    "### Duration"
   ]
  },
  {
   "cell_type": "code",
   "execution_count": 35,
   "metadata": {},
   "outputs": [],
   "source": [
    "mpa = mpa.withColumn('duration', regexp_replace(col('duration'), 'd', ''))\n",
    "mpa_test = mpa_test.withColumn('duration', regexp_replace(col('duration'), 'd', ''))\n"
   ]
  },
  {
   "cell_type": "markdown",
   "metadata": {},
   "source": [
    "###  Data Capacity"
   ]
  },
  {
   "cell_type": "code",
   "execution_count": 36,
   "metadata": {},
   "outputs": [],
   "source": [
    "mpa = mpa.withColumn('capacity', regexp_extract(col('description'), r'(\\d+)GB', 1))\n",
    "mpa_test = mpa_test.withColumn('capacity', regexp_extract(col('description'), r'(\\d+)GB', 1))"
   ]
  },
  {
   "cell_type": "markdown",
   "metadata": {},
   "source": [
    "### Descripton"
   ]
  },
  {
   "cell_type": "markdown",
   "metadata": {},
   "source": []
  },
  {
   "cell_type": "code",
   "execution_count": 37,
   "metadata": {},
   "outputs": [],
   "source": [
    "def extract_ad(x):\n",
    "    temp = []\n",
    "    if 'high speed' in x.lower():\n",
    "        temp.append('High_Speed')\n",
    "    if 'unlimited' in x.lower():\n",
    "        temp.append('Unlimited_Social')\n",
    "    if 'call' in x.lower():\n",
    "        temp.append('Calls')\n",
    "    return ', '.join(temp) if temp else 'None'\n",
    "\n",
    "\n",
    "udf_extract_ad = udf(extract_ad, StringType())\n"
   ]
  },
  {
   "cell_type": "code",
   "execution_count": 38,
   "metadata": {},
   "outputs": [],
   "source": [
    "mpa = mpa.withColumn('description', udf_extract_ad(col('description')))\n",
    "mpa_test = mpa_test.withColumn('description', udf_extract_ad(col('description')))"
   ]
  },
  {
   "cell_type": "code",
   "execution_count": 39,
   "metadata": {},
   "outputs": [
    {
     "name": "stdout",
     "output_type": "stream",
     "text": [
      "+---------------+--------------------+------+--------+--------+\n",
      "|    mobile_plan|         description| price|duration|capacity|\n",
      "+---------------+--------------------+------+--------+--------+\n",
      "|     datasilver|          High_Speed|100000|     5.0|       2|\n",
      "|       datagold|          High_Speed|200000|     5.0|       5|\n",
      "|    socialmedia|    Unlimited_Social|150000|     3.0|       1|\n",
      "|socialmediagold|High_Speed, Unlim...|250000|     3.0|       3|\n",
      "|       datacall|High_Speed, Unlim...|200000|     5.0|       2|\n",
      "+---------------+--------------------+------+--------+--------+\n",
      "\n"
     ]
    }
   ],
   "source": [
    "mpa.show()"
   ]
  },
  {
   "cell_type": "markdown",
   "metadata": {},
   "source": [
    "# MPU"
   ]
  },
  {
   "cell_type": "code",
   "execution_count": 45,
   "metadata": {},
   "outputs": [
    {
     "name": "stdout",
     "output_type": "stream",
     "text": [
      "+-------+---------------+------+\n",
      "|     id|    mobile_plan|accept|\n",
      "+-------+---------------+------+\n",
      "|11156.0|     datasilver|   1.0|\n",
      "| 4297.0|socialmediagold|   1.0|\n",
      "|13301.0|     datasilver|   1.0|\n",
      "| 9920.0|socialmediagold|   1.0|\n",
      "| 8424.0|     datasilver|   1.0|\n",
      "| 6771.0|socialmediagold|   0.0|\n",
      "|15308.0|     datasilver|   1.0|\n",
      "|14139.0|     datasilver|   1.0|\n",
      "|17824.0|    socialmedia|   1.0|\n",
      "|16372.0|       datacall|   1.0|\n",
      "| 1573.0|       datagold|   1.0|\n",
      "|11835.0|    socialmedia|   1.0|\n",
      "|19253.0|       datagold|   1.0|\n",
      "|10399.0|socialmediagold|   1.0|\n",
      "| 3502.0|    socialmedia|   1.0|\n",
      "| 3051.0|     datasilver|   0.0|\n",
      "|17620.0|       datacall|   1.0|\n",
      "| 9606.0|     datasilver|   1.0|\n",
      "|15884.0|     datasilver|   0.0|\n",
      "| 7022.0|socialmediagold|   1.0|\n",
      "+-------+---------------+------+\n",
      "only showing top 20 rows\n",
      "\n"
     ]
    }
   ],
   "source": [
    "mpu.show()"
   ]
  },
  {
   "cell_type": "code",
   "execution_count": 40,
   "metadata": {},
   "outputs": [],
   "source": [
    "mpu = mpu.withColumn('mobile_plan', lower(col('mobile_plan')))\n",
    "mpu_test = mpu_test.withColumnRenamed('coupon_id','mobile_plan')\n",
    "mpu_test = mpu_test.withColumn('mobile_plan', lower(col('mobile_plan')))\n"
   ]
  },
  {
   "cell_type": "code",
   "execution_count": 41,
   "metadata": {},
   "outputs": [],
   "source": [
    "mpu = mpu.na.drop()\n",
    "mpu_test = mpu_test.na.drop()"
   ]
  },
  {
   "cell_type": "code",
   "execution_count": null,
   "metadata": {},
   "outputs": [],
   "source": []
  }
 ],
 "metadata": {
  "kernelspec": {
   "display_name": "Python 3",
   "language": "python",
   "name": "python3"
  },
  "language_info": {
   "codemirror_mode": {
    "name": "ipython",
    "version": 3
   },
   "file_extension": ".py",
   "mimetype": "text/x-python",
   "name": "python",
   "nbconvert_exporter": "python",
   "pygments_lexer": "ipython3",
   "version": "3.12.1"
  }
 },
 "nbformat": 4,
 "nbformat_minor": 2
}
