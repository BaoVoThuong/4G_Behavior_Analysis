{
 "cells": [
  {
   "cell_type": "code",
   "execution_count": 39,
   "metadata": {},
   "outputs": [],
   "source": [
    "import pandas as pd\n",
    "import numpy as np\n",
    "import matplotlib.pyplot as plt\n",
    "import seaborn as sns\n",
    "import charset_normalizer\n",
    "import re\n",
    "\n",
    "import warnings\n",
    "warnings.filterwarnings(\"ignore\")\n"
   ]
  },
  {
   "cell_type": "markdown",
   "metadata": {},
   "source": [
    "# Read File"
   ]
  },
  {
   "cell_type": "code",
   "execution_count": 40,
   "metadata": {},
   "outputs": [],
   "source": [
    "# Training Set\n",
    "context = pd.read_csv('../initial_data/train/context.csv')\n",
    "mpa = pd.read_csv('../initial_data/train/mobile_plan_attr.csv', sep=';')\n",
    "mpu = pd.read_csv('../initial_data/train/mobile_plan_user.csv')\n",
    "user = pd.read_csv('../initial_data/train/user.csv')\n",
    "train_set = {'user': user,'context': context, 'mpa': mpa, 'mpu': mpu }\n"
   ]
  },
  {
   "cell_type": "code",
   "execution_count": 41,
   "metadata": {},
   "outputs": [],
   "source": [
    "# Testing Set\n",
    "context_test = pd.read_csv('../initial_data/test/context.csv')\n",
    "mpa_test = pd.read_csv('../initial_data/test/mobile_plan_attr.csv', sep=';')\n",
    "mpu_test = pd.read_csv('../initial_data/test/mobile_plan_user.csv')\n",
    "user_test = pd.read_csv('../initial_data/test/user.csv')\n",
    "test_set = {'user': user,'context': context, 'mpa': mpa, 'mpu': mpu }"
   ]
  },
  {
   "cell_type": "markdown",
   "metadata": {},
   "source": [
    "# Preprocessing"
   ]
  },
  {
   "cell_type": "markdown",
   "metadata": {},
   "source": [
    "## Missing Value"
   ]
  },
  {
   "cell_type": "code",
   "execution_count": 42,
   "metadata": {},
   "outputs": [
    {
     "name": "stdout",
     "output_type": "stream",
     "text": [
      "------------------ user ----------------------\n",
      "           count  percentage\n",
      "education   4003   34.592119\n",
      "------------------ mpu ----------------------\n",
      "             count  percentage\n",
      "mobile_plan   2715    5.990600\n",
      "accept        2721    6.003839\n"
     ]
    }
   ],
   "source": [
    "# Training set\n",
    "for key, value in train_set.items():\n",
    "    length = len(value)\n",
    "    missing_values = value.isnull().sum()  \n",
    "    missing_values = missing_values[missing_values > 0]  \n",
    "\n",
    "    if not missing_values.empty:\n",
    "        missing_df = pd.DataFrame({'count': missing_values, 'percentage': missing_values / length*100})\n",
    "        \n",
    "        print(f'------------------ {key} ----------------------')\n",
    "        print(missing_df)\n"
   ]
  },
  {
   "cell_type": "code",
   "execution_count": 43,
   "metadata": {},
   "outputs": [],
   "source": [
    "# Remove missing values in training data\n",
    "mpu = mpu.dropna(subset = ['mobile_plan','accept'])\n",
    "\n",
    "# Remove missing values in testing data\n",
    "mpu_test = mpu_test.rename(columns={'coupon_id': 'mobile_plan'})\n",
    "mpu_test = mpu_test.dropna(subset=['mobile_plan', 'accept'])\n"
   ]
  },
  {
   "cell_type": "markdown",
   "metadata": {},
   "source": [
    "## User"
   ]
  },
  {
   "cell_type": "code",
   "execution_count": 44,
   "metadata": {},
   "outputs": [
    {
     "data": {
      "text/html": [
       "<div>\n",
       "<style scoped>\n",
       "    .dataframe tbody tr th:only-of-type {\n",
       "        vertical-align: middle;\n",
       "    }\n",
       "\n",
       "    .dataframe tbody tr th {\n",
       "        vertical-align: top;\n",
       "    }\n",
       "\n",
       "    .dataframe thead th {\n",
       "        text-align: right;\n",
       "    }\n",
       "</style>\n",
       "<table border=\"1\" class=\"dataframe\">\n",
       "  <thead>\n",
       "    <tr style=\"text-align: right;\">\n",
       "      <th></th>\n",
       "      <th>id</th>\n",
       "      <th>name</th>\n",
       "      <th>gender</th>\n",
       "      <th>age</th>\n",
       "      <th>education</th>\n",
       "      <th>profession</th>\n",
       "      <th>income</th>\n",
       "      <th>living_with</th>\n",
       "      <th>nation</th>\n",
       "      <th>phone</th>\n",
       "      <th>job</th>\n",
       "      <th>fb_freq</th>\n",
       "      <th>yt_freq</th>\n",
       "      <th>insta_freq</th>\n",
       "      <th>use_less_than_2GB</th>\n",
       "      <th>use_2GB_to_4GB</th>\n",
       "    </tr>\n",
       "  </thead>\n",
       "  <tbody>\n",
       "    <tr>\n",
       "      <th>0</th>\n",
       "      <td>11156</td>\n",
       "      <td>Rachel Gibbs</td>\n",
       "      <td>Female</td>\n",
       "      <td>21</td>\n",
       "      <td>NaN</td>\n",
       "      <td>Unemployed</td>\n",
       "      <td>39100$</td>\n",
       "      <td>Unmarrie d_2</td>\n",
       "      <td>AUSTRALIA</td>\n",
       "      <td>(08)-8012-7556</td>\n",
       "      <td>Astronomer</td>\n",
       "      <td>0</td>\n",
       "      <td>0</td>\n",
       "      <td>9</td>\n",
       "      <td>8</td>\n",
       "      <td>3</td>\n",
       "    </tr>\n",
       "    <tr>\n",
       "      <th>1</th>\n",
       "      <td>4297</td>\n",
       "      <td>Karen Anderson</td>\n",
       "      <td>Other</td>\n",
       "      <td>22</td>\n",
       "      <td>NaN</td>\n",
       "      <td>Unemployed</td>\n",
       "      <td>41000$</td>\n",
       "      <td>U nmarr ied_2</td>\n",
       "      <td>ENGLAND</td>\n",
       "      <td>943-646-5203</td>\n",
       "      <td>Air cabin crew</td>\n",
       "      <td>0</td>\n",
       "      <td>0</td>\n",
       "      <td>23</td>\n",
       "      <td>7</td>\n",
       "      <td>2</td>\n",
       "    </tr>\n",
       "    <tr>\n",
       "      <th>2</th>\n",
       "      <td>13301</td>\n",
       "      <td>김지원</td>\n",
       "      <td>Female</td>\n",
       "      <td>24</td>\n",
       "      <td>NaN</td>\n",
       "      <td>Unemployed</td>\n",
       "      <td>44300$</td>\n",
       "      <td>Unma rried_1</td>\n",
       "      <td>KOREA</td>\n",
       "      <td>010-4500-9888</td>\n",
       "      <td>기계공학 기술자 및 연구원</td>\n",
       "      <td>0</td>\n",
       "      <td>0</td>\n",
       "      <td>23</td>\n",
       "      <td>5</td>\n",
       "      <td>2</td>\n",
       "    </tr>\n",
       "    <tr>\n",
       "      <th>3</th>\n",
       "      <td>9920</td>\n",
       "      <td>Elisabeth Wähner</td>\n",
       "      <td>Female</td>\n",
       "      <td>24</td>\n",
       "      <td>NaN</td>\n",
       "      <td>Unemployed</td>\n",
       "      <td>44400$</td>\n",
       "      <td>Un ma rried_1</td>\n",
       "      <td>DENMARK</td>\n",
       "      <td>+49(0) 587406963</td>\n",
       "      <td>Medizininformatiker</td>\n",
       "      <td>0</td>\n",
       "      <td>0</td>\n",
       "      <td>21</td>\n",
       "      <td>7</td>\n",
       "      <td>2</td>\n",
       "    </tr>\n",
       "    <tr>\n",
       "      <th>4</th>\n",
       "      <td>8424</td>\n",
       "      <td>Sra. Maria Luiza Nogueira</td>\n",
       "      <td>Female</td>\n",
       "      <td>25</td>\n",
       "      <td>NaN</td>\n",
       "      <td>Unemployed</td>\n",
       "      <td>1100000000 VND</td>\n",
       "      <td>U nmarr ied_1</td>\n",
       "      <td>BRAZIL</td>\n",
       "      <td>(084) 0568 1445</td>\n",
       "      <td>Ufólogo</td>\n",
       "      <td>0</td>\n",
       "      <td>0</td>\n",
       "      <td>22</td>\n",
       "      <td>5</td>\n",
       "      <td>3</td>\n",
       "    </tr>\n",
       "  </tbody>\n",
       "</table>\n",
       "</div>"
      ],
      "text/plain": [
       "      id                       name  gender  age education  profession  \\\n",
       "0  11156               Rachel Gibbs  Female   21       NaN  Unemployed   \n",
       "1   4297             Karen Anderson   Other   22       NaN  Unemployed   \n",
       "2  13301                        김지원  Female   24       NaN  Unemployed   \n",
       "3   9920           Elisabeth Wähner  Female   24       NaN  Unemployed   \n",
       "4   8424  Sra. Maria Luiza Nogueira  Female   25       NaN  Unemployed   \n",
       "\n",
       "           income    living_with     nation             phone  \\\n",
       "0          39100$   Unmarrie d_2  AUSTRALIA    (08)-8012-7556   \n",
       "1          41000$  U nmarr ied_2    ENGLAND      943-646-5203   \n",
       "2          44300$   Unma rried_1      KOREA     010-4500-9888   \n",
       "3          44400$  Un ma rried_1    DENMARK  +49(0) 587406963   \n",
       "4  1100000000 VND  U nmarr ied_1     BRAZIL   (084) 0568 1445   \n",
       "\n",
       "                   job  fb_freq  yt_freq  insta_freq  use_less_than_2GB  \\\n",
       "0           Astronomer        0        0           9                  8   \n",
       "1       Air cabin crew        0        0          23                  7   \n",
       "2       기계공학 기술자 및 연구원        0        0          23                  5   \n",
       "3  Medizininformatiker        0        0          21                  7   \n",
       "4              Ufólogo        0        0          22                  5   \n",
       "\n",
       "   use_2GB_to_4GB  \n",
       "0               3  \n",
       "1               2  \n",
       "2               2  \n",
       "3               2  \n",
       "4               3  "
      ]
     },
     "execution_count": 44,
     "metadata": {},
     "output_type": "execute_result"
    }
   ],
   "source": [
    "user.head()"
   ]
  },
  {
   "cell_type": "markdown",
   "metadata": {},
   "source": [
    "### Name"
   ]
  },
  {
   "cell_type": "code",
   "execution_count": 45,
   "metadata": {},
   "outputs": [],
   "source": [
    "# Training_set\n",
    "user = user.drop('name',axis =1)\n",
    "# Testing_set\n",
    "user_test = user_test.drop('name',axis =1)"
   ]
  },
  {
   "cell_type": "markdown",
   "metadata": {},
   "source": [
    "### Gender"
   ]
  },
  {
   "cell_type": "code",
   "execution_count": 46,
   "metadata": {},
   "outputs": [],
   "source": [
    "user['gender'] = user['gender'].str.lower()\n",
    "user_test['gender'] = user_test['gender'].str.lower()"
   ]
  },
  {
   "cell_type": "markdown",
   "metadata": {},
   "source": [
    "### Living With"
   ]
  },
  {
   "cell_type": "code",
   "execution_count": 47,
   "metadata": {},
   "outputs": [],
   "source": [
    "# Training_set\n",
    "user['num_child'] = user['living_with'].apply(lambda x:re.sub(r'[a-zA-Z_]+', '', x))\n",
    "user[\"living_with\"] = user[\"living_with\"].apply(lambda x:re.sub(r'[ _0-9]+', '', x).lower())\n",
    "\n",
    "\n",
    "# Testing_set\n",
    "user_test['num_child'] = user_test['living_with'].apply(lambda x:re.sub(r'[a-zA-Z_]+', '', x))\n",
    "user_test[\"living_with\"] = user_test[\"living_with\"].apply(lambda x:re.sub(r'[ _0-9]+', '', x).lower())"
   ]
  },
  {
   "cell_type": "code",
   "execution_count": 48,
   "metadata": {},
   "outputs": [
    {
     "data": {
      "text/plain": [
       "living_with\n",
       "married      4524\n",
       "single       4448\n",
       "unmarried    2093\n",
       "divorced      398\n",
       "widowed       109\n",
       "Name: count, dtype: int64"
      ]
     },
     "execution_count": 48,
     "metadata": {},
     "output_type": "execute_result"
    }
   ],
   "source": [
    "user['living_with'].value_counts()"
   ]
  },
  {
   "cell_type": "code",
   "execution_count": 49,
   "metadata": {},
   "outputs": [],
   "source": [
    "user['living_with'] = user['living_with'].apply(lambda x:'married' if x == 'married' else 'single')\n",
    "user_test['living_with'] = user['living_with'].apply(lambda x:'married' if x == 'married' else 'single')\n",
    "user = user.rename(columns={'living_with': 'marital_status'})\n",
    "user_test = user_test.rename(columns={'living_with': 'marital_status'})\n",
    "\n"
   ]
  },
  {
   "cell_type": "markdown",
   "metadata": {},
   "source": [
    "### Education"
   ]
  },
  {
   "cell_type": "code",
   "execution_count": 50,
   "metadata": {},
   "outputs": [],
   "source": [
    "# Training_set\n",
    "user['education'] = user['education'].fillna('unknown')\n",
    "user['education'] = user['education'].str.lower()\n",
    "\n",
    "# Testing_set\n",
    "user_test['education'] = user_test['education'].fillna('unknown')\n",
    "user_test['education'] = user_test['education'].str.lower()\n",
    "\n"
   ]
  },
  {
   "cell_type": "code",
   "execution_count": 51,
   "metadata": {},
   "outputs": [
    {
     "data": {
      "text/plain": [
       "education\n",
       "bachelor      4007\n",
       "unknown       4003\n",
       "masters       1613\n",
       "associate     1038\n",
       "highschool     911\n",
       "Name: count, dtype: int64"
      ]
     },
     "execution_count": 51,
     "metadata": {},
     "output_type": "execute_result"
    }
   ],
   "source": [
    "user['education'].value_counts()"
   ]
  },
  {
   "cell_type": "code",
   "execution_count": 52,
   "metadata": {},
   "outputs": [],
   "source": [
    "user['education'] = user['education'].apply(lambda x: 'undergrad' if x in ['highschool', 'associate'] else 'postgrad' if x == 'masters' else 'unknown' if x =='unknown' else 'grad')\n",
    "user_test['education'] = user_test['education'].apply(lambda x: 'undergrad' if x in ['highschool', 'associate'] else 'postgrad' if x == 'masters' else 'unknown' if x =='unknown' else 'grad')\n"
   ]
  },
  {
   "cell_type": "markdown",
   "metadata": {},
   "source": [
    "### Profession"
   ]
  },
  {
   "cell_type": "code",
   "execution_count": 53,
   "metadata": {},
   "outputs": [
    {
     "data": {
      "text/plain": [
       "profession\n",
       "Unemployed                                   1699\n",
       "Student                                      1554\n",
       "Computer & Mathematical                      1303\n",
       "Sales & Related                              1010\n",
       "Education&Training&Library                    834\n",
       "Management                                    797\n",
       "Office & Administrative Support               573\n",
       "Arts Design Entertainment Sports & Media      522\n",
       "Business & Financial                          494\n",
       "Retired                                       438\n",
       "Food Preparation & Serving Related            256\n",
       "Community & Social Services                   220\n",
       "Healthcare Support                            211\n",
       "Healthcare Practitioners & Technical          204\n",
       "Transportation & Material Moving              193\n",
       "Legal                                         179\n",
       "Architecture & Engineering                    174\n",
       "Protective Service                            160\n",
       "Personal Care & Service                       152\n",
       "Life Physical Social Science                  146\n",
       "Construction & Extraction                     132\n",
       "Installation Maintenance & Repair             129\n",
       "Production Occupations                        105\n",
       "Building & Grounds Cleaning & Maintenance      44\n",
       "Farming Fishing & Forestry                     43\n",
       "Name: count, dtype: int64"
      ]
     },
     "execution_count": 53,
     "metadata": {},
     "output_type": "execute_result"
    }
   ],
   "source": [
    "user['profession'].value_counts()"
   ]
  },
  {
   "cell_type": "code",
   "execution_count": 54,
   "metadata": {},
   "outputs": [],
   "source": [
    "# Training_set\n",
    "user['profession'] = user['profession'].str.lower()\n",
    "user['profession'] = user['profession'].apply(lambda x: x if x in ['unemployed','retired','student'] else 'employed')\n",
    "\n",
    "# Testing_set\n",
    "user_test['profession'] = user_test['profession'].str.lower()\n",
    "user_test['profession'] = user_test['profession'].apply(lambda x: x if x in ['unemployed','retired','student'] else 'employed')"
   ]
  },
  {
   "cell_type": "markdown",
   "metadata": {},
   "source": [
    "### Income"
   ]
  },
  {
   "cell_type": "code",
   "execution_count": 55,
   "metadata": {},
   "outputs": [],
   "source": [
    "def income_convert(x):\n",
    "    if 'VND' in x:\n",
    "        x = int(x.replace('VND','')) \n",
    "        x /= 25000\n",
    "    elif '$' in x:\n",
    "        x = int(x.replace('$',''))\n",
    "    return x\n"
   ]
  },
  {
   "cell_type": "code",
   "execution_count": 56,
   "metadata": {},
   "outputs": [],
   "source": [
    "# Training_set\n",
    "user['income'] = user['income'].apply(lambda x:income_convert(x))\n",
    "user['income'] = user['income'].apply(lambda x: 'lower' if x <= 30000 else 'lower-middle' if x > 30000 and x <= 58000 else 'middle' if x > 58000 and x <= 94000 else 'upper-middle' if x > 94000 and x <= 153000 else 'upper' if x > 153000 and x <= 200000 else 'extreme upper')\n",
    "\n",
    "#Testing_set\n",
    "user_test['income'] = user_test['income'].apply(lambda x:income_convert(x))\n",
    "user_test['income'] = user_test['income'].apply(lambda x: 'lower' if x <= 30000 else 'lower-middle' if x > 30000 and x <= 58000 else 'middle' if x > 58000 and x <= 94000 else 'upper-middle' if x > 94000 and x <= 153000 else 'upper' if x > 153000 and x <= 200000 else 'extreme upper')\n"
   ]
  },
  {
   "cell_type": "markdown",
   "metadata": {},
   "source": [
    "### Nation"
   ]
  },
  {
   "cell_type": "code",
   "execution_count": 57,
   "metadata": {},
   "outputs": [
    {
     "data": {
      "text/plain": [
       "nation\n",
       "US           2980\n",
       "ENGLAND      2934\n",
       "CHINA         955\n",
       "JAPAN         953\n",
       "RUSSIA        943\n",
       "BRAZIL        729\n",
       "AUSTRALIA     718\n",
       "KOREA         707\n",
       "DENMARK       653\n",
       "Name: count, dtype: int64"
      ]
     },
     "execution_count": 57,
     "metadata": {},
     "output_type": "execute_result"
    }
   ],
   "source": [
    "user['nation'].value_counts()"
   ]
  },
  {
   "cell_type": "code",
   "execution_count": 58,
   "metadata": {},
   "outputs": [],
   "source": [
    "continent_map = {\n",
    "    'US': 'america',\n",
    "    'ENGLAND': 'europe',\n",
    "    'CHINA': 'asia',\n",
    "    'JAPAN': 'asia',\n",
    "    'RUSSIA': 'europe',\n",
    "    'BRAZIL': 'america',\n",
    "    'AUSTRALIA': 'oceania',\n",
    "    'KOREA': 'asia',\n",
    "    'DENMARK': 'europe'\n",
    "}\n",
    "\n",
    "# Rename column\n",
    "user = user.rename(columns={'nation': 'continent'})\n",
    "user_test = user_test.rename(columns={'nation': 'continent'})\n",
    "\n",
    "# Map values\n",
    "user['continent'] = user['continent'].map(continent_map)\n",
    "user_test['continent'] = user_test['continent'].map(continent_map)\n"
   ]
  },
  {
   "cell_type": "markdown",
   "metadata": {},
   "source": [
    "### Job, Phone"
   ]
  },
  {
   "cell_type": "code",
   "execution_count": 59,
   "metadata": {},
   "outputs": [],
   "source": [
    "user = user.drop(['job','phone'],axis =1)\n",
    "user_test = user_test.drop(['job','phone'],axis =1)"
   ]
  },
  {
   "cell_type": "code",
   "execution_count": 60,
   "metadata": {},
   "outputs": [
    {
     "data": {
      "text/html": [
       "<div>\n",
       "<style scoped>\n",
       "    .dataframe tbody tr th:only-of-type {\n",
       "        vertical-align: middle;\n",
       "    }\n",
       "\n",
       "    .dataframe tbody tr th {\n",
       "        vertical-align: top;\n",
       "    }\n",
       "\n",
       "    .dataframe thead th {\n",
       "        text-align: right;\n",
       "    }\n",
       "</style>\n",
       "<table border=\"1\" class=\"dataframe\">\n",
       "  <thead>\n",
       "    <tr style=\"text-align: right;\">\n",
       "      <th></th>\n",
       "      <th>id</th>\n",
       "      <th>gender</th>\n",
       "      <th>age</th>\n",
       "      <th>education</th>\n",
       "      <th>profession</th>\n",
       "      <th>income</th>\n",
       "      <th>marital_status</th>\n",
       "      <th>continent</th>\n",
       "      <th>fb_freq</th>\n",
       "      <th>yt_freq</th>\n",
       "      <th>insta_freq</th>\n",
       "      <th>use_less_than_2GB</th>\n",
       "      <th>use_2GB_to_4GB</th>\n",
       "      <th>num_child</th>\n",
       "    </tr>\n",
       "  </thead>\n",
       "  <tbody>\n",
       "    <tr>\n",
       "      <th>0</th>\n",
       "      <td>11156</td>\n",
       "      <td>female</td>\n",
       "      <td>21</td>\n",
       "      <td>unknown</td>\n",
       "      <td>unemployed</td>\n",
       "      <td>lower-middle</td>\n",
       "      <td>single</td>\n",
       "      <td>oceania</td>\n",
       "      <td>0</td>\n",
       "      <td>0</td>\n",
       "      <td>9</td>\n",
       "      <td>8</td>\n",
       "      <td>3</td>\n",
       "      <td>2</td>\n",
       "    </tr>\n",
       "    <tr>\n",
       "      <th>1</th>\n",
       "      <td>4297</td>\n",
       "      <td>other</td>\n",
       "      <td>22</td>\n",
       "      <td>unknown</td>\n",
       "      <td>unemployed</td>\n",
       "      <td>lower-middle</td>\n",
       "      <td>single</td>\n",
       "      <td>europe</td>\n",
       "      <td>0</td>\n",
       "      <td>0</td>\n",
       "      <td>23</td>\n",
       "      <td>7</td>\n",
       "      <td>2</td>\n",
       "      <td>2</td>\n",
       "    </tr>\n",
       "    <tr>\n",
       "      <th>2</th>\n",
       "      <td>13301</td>\n",
       "      <td>female</td>\n",
       "      <td>24</td>\n",
       "      <td>unknown</td>\n",
       "      <td>unemployed</td>\n",
       "      <td>lower-middle</td>\n",
       "      <td>single</td>\n",
       "      <td>asia</td>\n",
       "      <td>0</td>\n",
       "      <td>0</td>\n",
       "      <td>23</td>\n",
       "      <td>5</td>\n",
       "      <td>2</td>\n",
       "      <td>1</td>\n",
       "    </tr>\n",
       "    <tr>\n",
       "      <th>3</th>\n",
       "      <td>9920</td>\n",
       "      <td>female</td>\n",
       "      <td>24</td>\n",
       "      <td>unknown</td>\n",
       "      <td>unemployed</td>\n",
       "      <td>lower-middle</td>\n",
       "      <td>single</td>\n",
       "      <td>europe</td>\n",
       "      <td>0</td>\n",
       "      <td>0</td>\n",
       "      <td>21</td>\n",
       "      <td>7</td>\n",
       "      <td>2</td>\n",
       "      <td>1</td>\n",
       "    </tr>\n",
       "    <tr>\n",
       "      <th>4</th>\n",
       "      <td>8424</td>\n",
       "      <td>female</td>\n",
       "      <td>25</td>\n",
       "      <td>unknown</td>\n",
       "      <td>unemployed</td>\n",
       "      <td>lower-middle</td>\n",
       "      <td>single</td>\n",
       "      <td>america</td>\n",
       "      <td>0</td>\n",
       "      <td>0</td>\n",
       "      <td>22</td>\n",
       "      <td>5</td>\n",
       "      <td>3</td>\n",
       "      <td>1</td>\n",
       "    </tr>\n",
       "  </tbody>\n",
       "</table>\n",
       "</div>"
      ],
      "text/plain": [
       "      id  gender  age education  profession        income marital_status  \\\n",
       "0  11156  female   21   unknown  unemployed  lower-middle         single   \n",
       "1   4297   other   22   unknown  unemployed  lower-middle         single   \n",
       "2  13301  female   24   unknown  unemployed  lower-middle         single   \n",
       "3   9920  female   24   unknown  unemployed  lower-middle         single   \n",
       "4   8424  female   25   unknown  unemployed  lower-middle         single   \n",
       "\n",
       "  continent  fb_freq  yt_freq  insta_freq  use_less_than_2GB  use_2GB_to_4GB  \\\n",
       "0   oceania        0        0           9                  8               3   \n",
       "1    europe        0        0          23                  7               2   \n",
       "2      asia        0        0          23                  5               2   \n",
       "3    europe        0        0          21                  7               2   \n",
       "4   america        0        0          22                  5               3   \n",
       "\n",
       "  num_child  \n",
       "0         2  \n",
       "1         2  \n",
       "2         1  \n",
       "3         1  \n",
       "4         1  "
      ]
     },
     "execution_count": 60,
     "metadata": {},
     "output_type": "execute_result"
    }
   ],
   "source": [
    "user.head()"
   ]
  },
  {
   "cell_type": "code",
   "execution_count": 61,
   "metadata": {},
   "outputs": [
    {
     "data": {
      "text/html": [
       "<div>\n",
       "<style scoped>\n",
       "    .dataframe tbody tr th:only-of-type {\n",
       "        vertical-align: middle;\n",
       "    }\n",
       "\n",
       "    .dataframe tbody tr th {\n",
       "        vertical-align: top;\n",
       "    }\n",
       "\n",
       "    .dataframe thead th {\n",
       "        text-align: right;\n",
       "    }\n",
       "</style>\n",
       "<table border=\"1\" class=\"dataframe\">\n",
       "  <thead>\n",
       "    <tr style=\"text-align: right;\">\n",
       "      <th></th>\n",
       "      <th>id</th>\n",
       "      <th>gender</th>\n",
       "      <th>age</th>\n",
       "      <th>education</th>\n",
       "      <th>profession</th>\n",
       "      <th>income</th>\n",
       "      <th>marital_status</th>\n",
       "      <th>continent</th>\n",
       "      <th>fb_freq</th>\n",
       "      <th>yt_freq</th>\n",
       "      <th>insta_freq</th>\n",
       "      <th>use_less_than_2GB</th>\n",
       "      <th>use_2GB_to_4GB</th>\n",
       "      <th>num_child</th>\n",
       "    </tr>\n",
       "  </thead>\n",
       "  <tbody>\n",
       "    <tr>\n",
       "      <th>0</th>\n",
       "      <td>7067</td>\n",
       "      <td>female</td>\n",
       "      <td>33</td>\n",
       "      <td>postgrad</td>\n",
       "      <td>unemployed</td>\n",
       "      <td>middle</td>\n",
       "      <td>single</td>\n",
       "      <td>asia</td>\n",
       "      <td>0</td>\n",
       "      <td>1</td>\n",
       "      <td>3</td>\n",
       "      <td>0</td>\n",
       "      <td>1</td>\n",
       "      <td>1</td>\n",
       "    </tr>\n",
       "    <tr>\n",
       "      <th>1</th>\n",
       "      <td>2114</td>\n",
       "      <td>female</td>\n",
       "      <td>34</td>\n",
       "      <td>postgrad</td>\n",
       "      <td>unemployed</td>\n",
       "      <td>middle</td>\n",
       "      <td>single</td>\n",
       "      <td>asia</td>\n",
       "      <td>0</td>\n",
       "      <td>1</td>\n",
       "      <td>1</td>\n",
       "      <td>1</td>\n",
       "      <td>1</td>\n",
       "      <td>1</td>\n",
       "    </tr>\n",
       "    <tr>\n",
       "      <th>2</th>\n",
       "      <td>6582</td>\n",
       "      <td>female</td>\n",
       "      <td>34</td>\n",
       "      <td>postgrad</td>\n",
       "      <td>unemployed</td>\n",
       "      <td>middle</td>\n",
       "      <td>single</td>\n",
       "      <td>oceania</td>\n",
       "      <td>0</td>\n",
       "      <td>1</td>\n",
       "      <td>3</td>\n",
       "      <td>1</td>\n",
       "      <td>0</td>\n",
       "      <td>3</td>\n",
       "    </tr>\n",
       "    <tr>\n",
       "      <th>3</th>\n",
       "      <td>11379</td>\n",
       "      <td>female</td>\n",
       "      <td>34</td>\n",
       "      <td>postgrad</td>\n",
       "      <td>unemployed</td>\n",
       "      <td>middle</td>\n",
       "      <td>single</td>\n",
       "      <td>america</td>\n",
       "      <td>0</td>\n",
       "      <td>1</td>\n",
       "      <td>3</td>\n",
       "      <td>0</td>\n",
       "      <td>0</td>\n",
       "      <td>4</td>\n",
       "    </tr>\n",
       "    <tr>\n",
       "      <th>4</th>\n",
       "      <td>3986</td>\n",
       "      <td>female</td>\n",
       "      <td>34</td>\n",
       "      <td>postgrad</td>\n",
       "      <td>unemployed</td>\n",
       "      <td>middle</td>\n",
       "      <td>single</td>\n",
       "      <td>asia</td>\n",
       "      <td>0</td>\n",
       "      <td>1</td>\n",
       "      <td>1</td>\n",
       "      <td>0</td>\n",
       "      <td>1</td>\n",
       "      <td>1</td>\n",
       "    </tr>\n",
       "  </tbody>\n",
       "</table>\n",
       "</div>"
      ],
      "text/plain": [
       "      id  gender  age education  profession  income marital_status continent  \\\n",
       "0   7067  female   33  postgrad  unemployed  middle         single      asia   \n",
       "1   2114  female   34  postgrad  unemployed  middle         single      asia   \n",
       "2   6582  female   34  postgrad  unemployed  middle         single   oceania   \n",
       "3  11379  female   34  postgrad  unemployed  middle         single   america   \n",
       "4   3986  female   34  postgrad  unemployed  middle         single      asia   \n",
       "\n",
       "   fb_freq  yt_freq  insta_freq  use_less_than_2GB  use_2GB_to_4GB num_child  \n",
       "0        0        1           3                  0               1         1  \n",
       "1        0        1           1                  1               1         1  \n",
       "2        0        1           3                  1               0         3  \n",
       "3        0        1           3                  0               0         4  \n",
       "4        0        1           1                  0               1         1  "
      ]
     },
     "execution_count": 61,
     "metadata": {},
     "output_type": "execute_result"
    }
   ],
   "source": [
    "user_test.head()"
   ]
  },
  {
   "cell_type": "markdown",
   "metadata": {},
   "source": [
    "## Context"
   ]
  },
  {
   "cell_type": "code",
   "execution_count": 62,
   "metadata": {},
   "outputs": [
    {
     "data": {
      "text/html": [
       "<div>\n",
       "<style scoped>\n",
       "    .dataframe tbody tr th:only-of-type {\n",
       "        vertical-align: middle;\n",
       "    }\n",
       "\n",
       "    .dataframe tbody tr th {\n",
       "        vertical-align: top;\n",
       "    }\n",
       "\n",
       "    .dataframe thead th {\n",
       "        text-align: right;\n",
       "    }\n",
       "</style>\n",
       "<table border=\"1\" class=\"dataframe\">\n",
       "  <thead>\n",
       "    <tr style=\"text-align: right;\">\n",
       "      <th></th>\n",
       "      <th>id</th>\n",
       "      <th>purpose</th>\n",
       "      <th>go_with</th>\n",
       "      <th>weather</th>\n",
       "      <th>time</th>\n",
       "      <th>viettel_no_0</th>\n",
       "      <th>viettel_no_1</th>\n",
       "      <th>viettel_no_2</th>\n",
       "      <th>to_hanoi</th>\n",
       "      <th>to_other</th>\n",
       "      <th>score</th>\n",
       "      <th>direction</th>\n",
       "    </tr>\n",
       "  </thead>\n",
       "  <tbody>\n",
       "    <tr>\n",
       "      <th>0</th>\n",
       "      <td>11156</td>\n",
       "      <td>Travel</td>\n",
       "      <td>Al?!%one</td>\n",
       "      <td>&amp;&amp;!!Sunny</td>\n",
       "      <td>13:00</td>\n",
       "      <td>1</td>\n",
       "      <td>0</td>\n",
       "      <td>0</td>\n",
       "      <td>0</td>\n",
       "      <td>1</td>\n",
       "      <td>0</td>\n",
       "      <td>0</td>\n",
       "    </tr>\n",
       "    <tr>\n",
       "      <th>1</th>\n",
       "      <td>4297</td>\n",
       "      <td>Travel</td>\n",
       "      <td>F!ri?end%(s)</td>\n",
       "      <td>Sun!~ny</td>\n",
       "      <td>9  AM</td>\n",
       "      <td>1</td>\n",
       "      <td>1</td>\n",
       "      <td>0</td>\n",
       "      <td>0</td>\n",
       "      <td>1</td>\n",
       "      <td>0</td>\n",
       "      <td>0</td>\n",
       "    </tr>\n",
       "    <tr>\n",
       "      <th>2</th>\n",
       "      <td>13301</td>\n",
       "      <td>Travel</td>\n",
       "      <td>Frie~nd(s)</td>\n",
       "      <td>!&amp;~S!unny</td>\n",
       "      <td>15:00</td>\n",
       "      <td>1</td>\n",
       "      <td>1</td>\n",
       "      <td>0</td>\n",
       "      <td>0</td>\n",
       "      <td>1</td>\n",
       "      <td>0</td>\n",
       "      <td>0</td>\n",
       "    </tr>\n",
       "    <tr>\n",
       "      <th>3</th>\n",
       "      <td>9920</td>\n",
       "      <td>Travel</td>\n",
       "      <td>?Friend(s)</td>\n",
       "      <td>Su%n&amp;ny</td>\n",
       "      <td>2 PM</td>\n",
       "      <td>1</td>\n",
       "      <td>1</td>\n",
       "      <td>0</td>\n",
       "      <td>0</td>\n",
       "      <td>1</td>\n",
       "      <td>30</td>\n",
       "      <td>0</td>\n",
       "    </tr>\n",
       "    <tr>\n",
       "      <th>4</th>\n",
       "      <td>8424</td>\n",
       "      <td>Travel</td>\n",
       "      <td>?Fa! mily</td>\n",
       "      <td>Sun%ny</td>\n",
       "      <td>10AM</td>\n",
       "      <td>1</td>\n",
       "      <td>1</td>\n",
       "      <td>0</td>\n",
       "      <td>0</td>\n",
       "      <td>1</td>\n",
       "      <td>0</td>\n",
       "      <td>0</td>\n",
       "    </tr>\n",
       "  </tbody>\n",
       "</table>\n",
       "</div>"
      ],
      "text/plain": [
       "      id purpose       go_with    weather     time  viettel_no_0  \\\n",
       "0  11156  Travel      Al?!%one  &&!!Sunny    13:00             1   \n",
       "1   4297  Travel  F!ri?end%(s)    Sun!~ny  9  AM               1   \n",
       "2  13301  Travel    Frie~nd(s)  !&~S!unny    15:00             1   \n",
       "3   9920  Travel    ?Friend(s)    Su%n&ny   2 PM               1   \n",
       "4   8424  Travel     ?Fa! mily     Sun%ny     10AM             1   \n",
       "\n",
       "   viettel_no_1  viettel_no_2  to_hanoi  to_other  score  direction  \n",
       "0             0             0         0         1      0          0  \n",
       "1             1             0         0         1      0          0  \n",
       "2             1             0         0         1      0          0  \n",
       "3             1             0         0         1     30          0  \n",
       "4             1             0         0         1      0          0  "
      ]
     },
     "execution_count": 62,
     "metadata": {},
     "output_type": "execute_result"
    }
   ],
   "source": [
    "context.head()"
   ]
  },
  {
   "cell_type": "markdown",
   "metadata": {},
   "source": [
    "### Go_with and weather"
   ]
  },
  {
   "cell_type": "code",
   "execution_count": 63,
   "metadata": {},
   "outputs": [],
   "source": [
    "for x in [\"go_with\", \"weather\"]:\n",
    "    context[x] = context[x].apply(lambda x: re.sub(r\"[^a-zA-Z\\s]\", \"\", str(x)).replace(' ','').lower())\n",
    "    context_test[x] = context_test[x].apply(lambda x: re.sub(r\"[^a-zA-Z\\s]\", \"\", str(x)).replace(' ','').lower())\n"
   ]
  },
  {
   "cell_type": "markdown",
   "metadata": {},
   "source": [
    "### Time"
   ]
  },
  {
   "cell_type": "code",
   "execution_count": 64,
   "metadata": {},
   "outputs": [],
   "source": [
    "def convert_time(x):\n",
    "    if 'AM' in x:\n",
    "        x = x.replace('AM','')\n",
    "    elif 'PM' in x:\n",
    "        x = x.replace('PM','')\n",
    "        x = int(x.split(':')[0]) + 12\n",
    "    elif ':00' in x:\n",
    "        x = x.replace(':00','')\n",
    "    return x\n",
    "\n",
    "def time_of_day(x):\n",
    "    hour = int(x)\n",
    "    if 5 <= hour < 12:\n",
    "        return 'morning'\n",
    "    elif 12 <= hour < 17:\n",
    "        return 'afternoon'\n",
    "    elif 17 <= hour < 21:\n",
    "        return 'evening'\n",
    "    else:\n",
    "        return 'night'"
   ]
  },
  {
   "cell_type": "code",
   "execution_count": 65,
   "metadata": {},
   "outputs": [],
   "source": [
    "context['time'] = context['time'].apply(lambda x: convert_time(x))\n",
    "context['time'] = context['time'].apply(time_of_day)\n",
    "\n",
    "context_test['time'] = context_test['time'].apply(lambda x: convert_time(x))\n",
    "context_test['time'] = context_test['time'].apply(time_of_day)\n"
   ]
  },
  {
   "cell_type": "markdown",
   "metadata": {},
   "source": [
    "### Purpose"
   ]
  },
  {
   "cell_type": "code",
   "execution_count": 66,
   "metadata": {},
   "outputs": [],
   "source": [
    "context[\"purpose\"] = context[\"purpose\"].str.strip()\n",
    "context[\"purpose\"] = context[\"purpose\"].str.lower()\n",
    "context[\"purpose\"] = context[\"purpose\"].apply(lambda x: x if x == 'work'else 'travel')\n",
    "\n",
    "context_test[\"purpose\"] = context_test[\"purpose\"].str.strip()\n",
    "context_test[\"purpose\"] = context_test[\"purpose\"].str.lower()\n",
    "context_test[\"purpose\"] = context_test[\"purpose\"].apply(lambda x: x if x == 'work'else 'travel')\n"
   ]
  },
  {
   "cell_type": "markdown",
   "metadata": {},
   "source": [
    "### to_hanoi, to_other, direction"
   ]
  },
  {
   "cell_type": "code",
   "execution_count": 67,
   "metadata": {},
   "outputs": [],
   "source": [
    "context = context.drop(axis=1, columns=[\"to_hanoi\", \"to_other\"])\n",
    "context_test = context_test.drop(axis=1, columns=[\"to_hanoi\", \"to_other\"])"
   ]
  },
  {
   "cell_type": "code",
   "execution_count": 68,
   "metadata": {},
   "outputs": [
    {
     "data": {
      "text/html": [
       "<div>\n",
       "<style scoped>\n",
       "    .dataframe tbody tr th:only-of-type {\n",
       "        vertical-align: middle;\n",
       "    }\n",
       "\n",
       "    .dataframe tbody tr th {\n",
       "        vertical-align: top;\n",
       "    }\n",
       "\n",
       "    .dataframe thead th {\n",
       "        text-align: right;\n",
       "    }\n",
       "</style>\n",
       "<table border=\"1\" class=\"dataframe\">\n",
       "  <thead>\n",
       "    <tr style=\"text-align: right;\">\n",
       "      <th></th>\n",
       "      <th>id</th>\n",
       "      <th>purpose</th>\n",
       "      <th>go_with</th>\n",
       "      <th>weather</th>\n",
       "      <th>time</th>\n",
       "      <th>viettel_no_0</th>\n",
       "      <th>viettel_no_1</th>\n",
       "      <th>viettel_no_2</th>\n",
       "      <th>score</th>\n",
       "      <th>direction</th>\n",
       "    </tr>\n",
       "  </thead>\n",
       "  <tbody>\n",
       "    <tr>\n",
       "      <th>0</th>\n",
       "      <td>11156</td>\n",
       "      <td>travel</td>\n",
       "      <td>alone</td>\n",
       "      <td>sunny</td>\n",
       "      <td>afternoon</td>\n",
       "      <td>1</td>\n",
       "      <td>0</td>\n",
       "      <td>0</td>\n",
       "      <td>0</td>\n",
       "      <td>0</td>\n",
       "    </tr>\n",
       "    <tr>\n",
       "      <th>1</th>\n",
       "      <td>4297</td>\n",
       "      <td>travel</td>\n",
       "      <td>friends</td>\n",
       "      <td>sunny</td>\n",
       "      <td>morning</td>\n",
       "      <td>1</td>\n",
       "      <td>1</td>\n",
       "      <td>0</td>\n",
       "      <td>0</td>\n",
       "      <td>0</td>\n",
       "    </tr>\n",
       "    <tr>\n",
       "      <th>2</th>\n",
       "      <td>13301</td>\n",
       "      <td>travel</td>\n",
       "      <td>friends</td>\n",
       "      <td>sunny</td>\n",
       "      <td>afternoon</td>\n",
       "      <td>1</td>\n",
       "      <td>1</td>\n",
       "      <td>0</td>\n",
       "      <td>0</td>\n",
       "      <td>0</td>\n",
       "    </tr>\n",
       "    <tr>\n",
       "      <th>3</th>\n",
       "      <td>9920</td>\n",
       "      <td>travel</td>\n",
       "      <td>friends</td>\n",
       "      <td>sunny</td>\n",
       "      <td>afternoon</td>\n",
       "      <td>1</td>\n",
       "      <td>1</td>\n",
       "      <td>0</td>\n",
       "      <td>30</td>\n",
       "      <td>0</td>\n",
       "    </tr>\n",
       "    <tr>\n",
       "      <th>4</th>\n",
       "      <td>8424</td>\n",
       "      <td>travel</td>\n",
       "      <td>family</td>\n",
       "      <td>sunny</td>\n",
       "      <td>morning</td>\n",
       "      <td>1</td>\n",
       "      <td>1</td>\n",
       "      <td>0</td>\n",
       "      <td>0</td>\n",
       "      <td>0</td>\n",
       "    </tr>\n",
       "  </tbody>\n",
       "</table>\n",
       "</div>"
      ],
      "text/plain": [
       "      id purpose  go_with weather       time  viettel_no_0  viettel_no_1  \\\n",
       "0  11156  travel    alone   sunny  afternoon             1             0   \n",
       "1   4297  travel  friends   sunny    morning             1             1   \n",
       "2  13301  travel  friends   sunny  afternoon             1             1   \n",
       "3   9920  travel  friends   sunny  afternoon             1             1   \n",
       "4   8424  travel   family   sunny    morning             1             1   \n",
       "\n",
       "   viettel_no_2  score  direction  \n",
       "0             0      0          0  \n",
       "1             0      0          0  \n",
       "2             0      0          0  \n",
       "3             0     30          0  \n",
       "4             0      0          0  "
      ]
     },
     "execution_count": 68,
     "metadata": {},
     "output_type": "execute_result"
    }
   ],
   "source": [
    "context.head()"
   ]
  },
  {
   "cell_type": "markdown",
   "metadata": {},
   "source": [
    "## Mobile Plan Attributes"
   ]
  },
  {
   "cell_type": "code",
   "execution_count": 69,
   "metadata": {},
   "outputs": [
    {
     "data": {
      "text/html": [
       "<div>\n",
       "<style scoped>\n",
       "    .dataframe tbody tr th:only-of-type {\n",
       "        vertical-align: middle;\n",
       "    }\n",
       "\n",
       "    .dataframe tbody tr th {\n",
       "        vertical-align: top;\n",
       "    }\n",
       "\n",
       "    .dataframe thead th {\n",
       "        text-align: right;\n",
       "    }\n",
       "</style>\n",
       "<table border=\"1\" class=\"dataframe\">\n",
       "  <thead>\n",
       "    <tr style=\"text-align: right;\">\n",
       "      <th></th>\n",
       "      <th>mobile_plan</th>\n",
       "      <th>description</th>\n",
       "      <th>price</th>\n",
       "      <th>duration</th>\n",
       "    </tr>\n",
       "  </thead>\n",
       "  <tbody>\n",
       "    <tr>\n",
       "      <th>0</th>\n",
       "      <td>DATASILVER</td>\n",
       "      <td>2GB/ day, high speed</td>\n",
       "      <td>100000</td>\n",
       "      <td>5d</td>\n",
       "    </tr>\n",
       "    <tr>\n",
       "      <th>1</th>\n",
       "      <td>DATAGOLD</td>\n",
       "      <td>5GB/ day, high speed</td>\n",
       "      <td>200000</td>\n",
       "      <td>5d</td>\n",
       "    </tr>\n",
       "    <tr>\n",
       "      <th>2</th>\n",
       "      <td>SOCIALMEDIA</td>\n",
       "      <td>1GB/ dayUnlimited for Tik Tok, Facebook, Youtube</td>\n",
       "      <td>150000</td>\n",
       "      <td>3d</td>\n",
       "    </tr>\n",
       "    <tr>\n",
       "      <th>3</th>\n",
       "      <td>SOCIALMEDIAGOLD</td>\n",
       "      <td>3GB/ day, high speedUnlimited for Tik Tok, Fac...</td>\n",
       "      <td>250000</td>\n",
       "      <td>3d</td>\n",
       "    </tr>\n",
       "    <tr>\n",
       "      <th>4</th>\n",
       "      <td>DATACALL</td>\n",
       "      <td>2GB/ day, high speed300 mins call for external...</td>\n",
       "      <td>200000</td>\n",
       "      <td>5d</td>\n",
       "    </tr>\n",
       "  </tbody>\n",
       "</table>\n",
       "</div>"
      ],
      "text/plain": [
       "       mobile_plan                                        description   price  \\\n",
       "0       DATASILVER                               2GB/ day, high speed  100000   \n",
       "1         DATAGOLD                               5GB/ day, high speed  200000   \n",
       "2      SOCIALMEDIA   1GB/ dayUnlimited for Tik Tok, Facebook, Youtube  150000   \n",
       "3  SOCIALMEDIAGOLD  3GB/ day, high speedUnlimited for Tik Tok, Fac...  250000   \n",
       "4         DATACALL  2GB/ day, high speed300 mins call for external...  200000   \n",
       "\n",
       "  duration  \n",
       "0       5d  \n",
       "1       5d  \n",
       "2       3d  \n",
       "3       3d  \n",
       "4       5d  "
      ]
     },
     "execution_count": 69,
     "metadata": {},
     "output_type": "execute_result"
    }
   ],
   "source": [
    "mpa.head()"
   ]
  },
  {
   "cell_type": "markdown",
   "metadata": {},
   "source": [
    "### Mobile Plan"
   ]
  },
  {
   "cell_type": "code",
   "execution_count": 70,
   "metadata": {},
   "outputs": [],
   "source": [
    "mpa['mobile_plan'] = mpa['mobile_plan'].str.lower()\n",
    "mpa_test['mobile_plan'] = mpa_test['mobile_plan'].str.lower()"
   ]
  },
  {
   "cell_type": "markdown",
   "metadata": {},
   "source": [
    "### Duration"
   ]
  },
  {
   "cell_type": "code",
   "execution_count": 71,
   "metadata": {},
   "outputs": [],
   "source": [
    "mpa['duration'] = mpa['duration'].str.replace('d','')\n",
    "mpa_test['duration'] = mpa_test['duration'].str.replace('d','')"
   ]
  },
  {
   "cell_type": "markdown",
   "metadata": {},
   "source": [
    "###  Data Capacity"
   ]
  },
  {
   "cell_type": "code",
   "execution_count": 72,
   "metadata": {},
   "outputs": [],
   "source": [
    "mpa['capacity'] = mpa['description'].str.extract(r'(\\d+)GB')\n",
    "mpa_test['capacity'] = mpa_test['description'].str.extract(r'(\\d+)GB')"
   ]
  },
  {
   "cell_type": "markdown",
   "metadata": {},
   "source": [
    "### Descripton"
   ]
  },
  {
   "cell_type": "code",
   "execution_count": 73,
   "metadata": {},
   "outputs": [],
   "source": [
    "def extract_ad(x):\n",
    "    temp = ''\n",
    "    if 'high speed' in x:\n",
    "        temp += 'High_Speed'\n",
    "    if 'Unlimited' in x:\n",
    "        if temp != '':\n",
    "            temp += ', '\n",
    "        temp+= 'Unlimited_Social'\n",
    "    if 'call' in x: \n",
    "        if temp != '':\n",
    "            temp += ', '\n",
    "        temp+= 'Calls'\n",
    "    return temp\n",
    "    \n",
    "\n",
    "mpa['description'] = mpa['description'].apply(lambda x: extract_ad(x))\n",
    "mpa_test['description'] = mpa_test['description'].apply(lambda x: extract_ad(x))\n",
    "\n"
   ]
  },
  {
   "cell_type": "code",
   "execution_count": 74,
   "metadata": {},
   "outputs": [
    {
     "data": {
      "text/html": [
       "<div>\n",
       "<style scoped>\n",
       "    .dataframe tbody tr th:only-of-type {\n",
       "        vertical-align: middle;\n",
       "    }\n",
       "\n",
       "    .dataframe tbody tr th {\n",
       "        vertical-align: top;\n",
       "    }\n",
       "\n",
       "    .dataframe thead th {\n",
       "        text-align: right;\n",
       "    }\n",
       "</style>\n",
       "<table border=\"1\" class=\"dataframe\">\n",
       "  <thead>\n",
       "    <tr style=\"text-align: right;\">\n",
       "      <th></th>\n",
       "      <th>mobile_plan</th>\n",
       "      <th>description</th>\n",
       "      <th>price</th>\n",
       "      <th>duration</th>\n",
       "      <th>capacity</th>\n",
       "    </tr>\n",
       "  </thead>\n",
       "  <tbody>\n",
       "    <tr>\n",
       "      <th>0</th>\n",
       "      <td>datasilver</td>\n",
       "      <td>High_Speed</td>\n",
       "      <td>100000</td>\n",
       "      <td>5</td>\n",
       "      <td>2</td>\n",
       "    </tr>\n",
       "    <tr>\n",
       "      <th>1</th>\n",
       "      <td>datagold</td>\n",
       "      <td>High_Speed</td>\n",
       "      <td>200000</td>\n",
       "      <td>5</td>\n",
       "      <td>5</td>\n",
       "    </tr>\n",
       "    <tr>\n",
       "      <th>2</th>\n",
       "      <td>socialmedia</td>\n",
       "      <td>Unlimited_Social</td>\n",
       "      <td>150000</td>\n",
       "      <td>3</td>\n",
       "      <td>1</td>\n",
       "    </tr>\n",
       "    <tr>\n",
       "      <th>3</th>\n",
       "      <td>socialmediagold</td>\n",
       "      <td>High_Speed, Unlimited_Social</td>\n",
       "      <td>250000</td>\n",
       "      <td>3</td>\n",
       "      <td>3</td>\n",
       "    </tr>\n",
       "    <tr>\n",
       "      <th>4</th>\n",
       "      <td>datacall</td>\n",
       "      <td>High_Speed, Unlimited_Social, Calls</td>\n",
       "      <td>200000</td>\n",
       "      <td>5</td>\n",
       "      <td>2</td>\n",
       "    </tr>\n",
       "  </tbody>\n",
       "</table>\n",
       "</div>"
      ],
      "text/plain": [
       "       mobile_plan                          description   price duration  \\\n",
       "0       datasilver                           High_Speed  100000        5   \n",
       "1         datagold                           High_Speed  200000        5   \n",
       "2      socialmedia                     Unlimited_Social  150000        3   \n",
       "3  socialmediagold         High_Speed, Unlimited_Social  250000        3   \n",
       "4         datacall  High_Speed, Unlimited_Social, Calls  200000        5   \n",
       "\n",
       "  capacity  \n",
       "0        2  \n",
       "1        5  \n",
       "2        1  \n",
       "3        3  \n",
       "4        2  "
      ]
     },
     "execution_count": 74,
     "metadata": {},
     "output_type": "execute_result"
    }
   ],
   "source": [
    "mpa"
   ]
  },
  {
   "cell_type": "markdown",
   "metadata": {},
   "source": [
    "## Mobile Plan User"
   ]
  },
  {
   "cell_type": "code",
   "execution_count": 75,
   "metadata": {},
   "outputs": [
    {
     "data": {
      "text/html": [
       "<div>\n",
       "<style scoped>\n",
       "    .dataframe tbody tr th:only-of-type {\n",
       "        vertical-align: middle;\n",
       "    }\n",
       "\n",
       "    .dataframe tbody tr th {\n",
       "        vertical-align: top;\n",
       "    }\n",
       "\n",
       "    .dataframe thead th {\n",
       "        text-align: right;\n",
       "    }\n",
       "</style>\n",
       "<table border=\"1\" class=\"dataframe\">\n",
       "  <thead>\n",
       "    <tr style=\"text-align: right;\">\n",
       "      <th></th>\n",
       "      <th>id</th>\n",
       "      <th>mobile_plan</th>\n",
       "      <th>accept</th>\n",
       "    </tr>\n",
       "  </thead>\n",
       "  <tbody>\n",
       "    <tr>\n",
       "      <th>0</th>\n",
       "      <td>11156.0</td>\n",
       "      <td>DATASILVER</td>\n",
       "      <td>1.0</td>\n",
       "    </tr>\n",
       "    <tr>\n",
       "      <th>1</th>\n",
       "      <td>4297.0</td>\n",
       "      <td>SOCIALMEDIAGOLD</td>\n",
       "      <td>1.0</td>\n",
       "    </tr>\n",
       "    <tr>\n",
       "      <th>2</th>\n",
       "      <td>13301.0</td>\n",
       "      <td>DATASILVER</td>\n",
       "      <td>1.0</td>\n",
       "    </tr>\n",
       "    <tr>\n",
       "      <th>3</th>\n",
       "      <td>9920.0</td>\n",
       "      <td>SOCIALMEDIAGOLD</td>\n",
       "      <td>1.0</td>\n",
       "    </tr>\n",
       "    <tr>\n",
       "      <th>4</th>\n",
       "      <td>8424.0</td>\n",
       "      <td>DATASILVER</td>\n",
       "      <td>1.0</td>\n",
       "    </tr>\n",
       "    <tr>\n",
       "      <th>...</th>\n",
       "      <td>...</td>\n",
       "      <td>...</td>\n",
       "      <td>...</td>\n",
       "    </tr>\n",
       "    <tr>\n",
       "      <th>45312</th>\n",
       "      <td>14062.0</td>\n",
       "      <td>DATAGOLD</td>\n",
       "      <td>0.0</td>\n",
       "    </tr>\n",
       "    <tr>\n",
       "      <th>45314</th>\n",
       "      <td>13710.0</td>\n",
       "      <td>DATAGOLD</td>\n",
       "      <td>0.0</td>\n",
       "    </tr>\n",
       "    <tr>\n",
       "      <th>45315</th>\n",
       "      <td>10956.0</td>\n",
       "      <td>SOCIALMEDIA</td>\n",
       "      <td>0.0</td>\n",
       "    </tr>\n",
       "    <tr>\n",
       "      <th>45316</th>\n",
       "      <td>14977.0</td>\n",
       "      <td>DATASILVER</td>\n",
       "      <td>0.0</td>\n",
       "    </tr>\n",
       "    <tr>\n",
       "      <th>45319</th>\n",
       "      <td>11678.0</td>\n",
       "      <td>DATACALL</td>\n",
       "      <td>0.0</td>\n",
       "    </tr>\n",
       "  </tbody>\n",
       "</table>\n",
       "<p>40700 rows × 3 columns</p>\n",
       "</div>"
      ],
      "text/plain": [
       "            id      mobile_plan  accept\n",
       "0      11156.0       DATASILVER     1.0\n",
       "1       4297.0  SOCIALMEDIAGOLD     1.0\n",
       "2      13301.0       DATASILVER     1.0\n",
       "3       9920.0  SOCIALMEDIAGOLD     1.0\n",
       "4       8424.0       DATASILVER     1.0\n",
       "...        ...              ...     ...\n",
       "45312  14062.0         DATAGOLD     0.0\n",
       "45314  13710.0         DATAGOLD     0.0\n",
       "45315  10956.0      SOCIALMEDIA     0.0\n",
       "45316  14977.0       DATASILVER     0.0\n",
       "45319  11678.0         DATACALL     0.0\n",
       "\n",
       "[40700 rows x 3 columns]"
      ]
     },
     "execution_count": 75,
     "metadata": {},
     "output_type": "execute_result"
    }
   ],
   "source": [
    "mpu"
   ]
  },
  {
   "cell_type": "code",
   "execution_count": 76,
   "metadata": {},
   "outputs": [],
   "source": [
    "mpu['mobile_plan'] = mpu['mobile_plan'].str.lower()\n",
    "mpu_test['mobile_plan'] = mpu_test['mobile_plan'].str.lower()"
   ]
  },
  {
   "cell_type": "code",
   "execution_count": null,
   "metadata": {},
   "outputs": [],
   "source": []
  }
 ],
 "metadata": {
  "kernelspec": {
   "display_name": "Python 3",
   "language": "python",
   "name": "python3"
  },
  "language_info": {
   "codemirror_mode": {
    "name": "ipython",
    "version": 3
   },
   "file_extension": ".py",
   "mimetype": "text/x-python",
   "name": "python",
   "nbconvert_exporter": "python",
   "pygments_lexer": "ipython3",
   "version": "3.12.1"
  }
 },
 "nbformat": 4,
 "nbformat_minor": 2
}
